!pip install pymlask
!pip install janome
!apt install aptitude swig
!aptitude install mecab libmecab-dev mecab-ipadic-utf8 git make curl xz-utils file -y
!pip install mecab-python3==0.996.3
!git clone --depth 1 https://github.com/neologd/mecab-ipadic-neologd.git
!echo yes | mecab-ipadic-neologd/bin/install-mecab-ipadic-neologd -n -a
!pip install emoji
!pip install japanize-matplotlib
!pip install gensim==3.4.0
!pip install smart_open==1.9.0
!pip install WordCroud
!apt-get -y install fonts-ipafont-gothic

from google.colab import drive
drive.mount('/content/drive')

import pandas as pd
import numpy as np
import smart_open
import gensim
from gensim.models import word2vec
import glob
import pickle
import emoji
import csv
import re
from mlask import MLAsk
import requests
from bs4 import BeautifulSoup
import matplotlib.pyplot as plt
import seaborn as sns
import math
from wordcloud import WordCloud

emotion_analyzer = MLAsk()

import MeCab
tagger=MeCab.Tagger('-Owakati')

from janome.tokenizer import Tokenizer
import time
# Create Tokenizer instance
t = Tokenizer()

csv_files = glob.glob('/content/drive/My Drive/XXXXXXX/*.csv') #jpサンプルツイートフォルダ内結合
data_list = []
for file in csv_files:
  data_list.append(pd.read_csv(file, lineterminator='\n'))  
df = pd.concat(data_list, axis=0, sort=False)
df = df.drop_duplicates(keep='last')
df=df.reset_index(drop=True)

elim=[]
for i in range(len(df)):
  if str(df.iloc[i]['text']).startswith('RT') is True:
    elim.append(i)

#Eliminate RT
df1=df.drop(elim)
df1=df1.reset_index(drop=True)


elim_http=[]
for j in range(len(df1)):
  user_text=df1.iloc[j]['text']
  word_list=list(tagger.parse(user_text).split())
  if 'https' in word_list:
    elim_http.append(j)
  elif 'http' in word_list:
    elim_http.append(j)
  elif '@' in word_list:
    elim_http.append(j)

#Eliminate http
df2=df1.drop(elim_http)
df2=df2.reset_index(drop=True)

emotion_list = []
orientation_list = []

for k in range(len(df2)):
  text = df2.iloc[k]['text']
  result = emotion_analyzer.analyze(text)
  try:
    orientation = result['orientation']
    kanjo = result['representative']
    emotion_list.append(kanjo)
    orientation_list.append(orientation)
  except KeyError:
    kanjo = 'NA'
    orientation = 'NA'
    emotion_list.append(kanjo)
    orientation_list.append(orientation)

df2["orientation"] = orientation_list
df2["emotion"] = emotion_list

#Orientation
orientation_negative = (df2['orientation'] == 'NEGATIVE')
orientation_positive = (df2['orientation'] == 'POSITIVE')
orientation_neutral = (df2['orientation'] == 'NEUTRAL')
orientation_mone = (df2['orientation'] == 'mostly_NEGATIVE')
orientation_mopo = (df2['orientation'] == 'mostly_POSITIVE')
orientation_na = (df2['orientation'] == 'NA')
objects_orientation = ('Negative', 'Mostly Negative', 'Neutral' ,'Mostly Positive', 'Positive', 'NA')
y_pos = np.arange(len(objects_orientation))
performance = [orientation_negative.sum(), orientation_mone.sum(), orientation_neutral.sum(), orientation_mopo.sum(), orientation_positive.sum(), orientation_na.sum()]
plt.figure(figsize=(8,4))
plt.bar(y_pos, performance, align='center', alpha=0.5, width=0.6)
plt.xticks(y_pos, objects_orientation)
plt.ylabel('Number of tweets')
plt.title('Tweet Emotion Orientation')
plt.show()

#Emotion
#喜, 怒, 哀, 怖, 恥, 好, 厭, 昂, 安, 驚
objects_emotion = ('joy', 'anger', 'sorrow', 'fear', 'shame', 'liking', 'dislike', 'excitement', 'relief', 'surprise', 'NA')
df3 = df2['emotion']
df4 = []
for i in range(len(df3)):
  row = str(df3[i])
  df4.append(row)

emotion_yorokobi = [s for s in df4 if 'yorokobi' in s]
emotion_ikari = [s for s in df4 if 'ikari' in s]
emotion_aware = [s for s in df4 if 'aware' in s]
emotion_kowagari = [s for s in df4 if 'kowa' in s]
emotion_haji = [s for s in df4 if 'haji' in s]
emotion_suki = [s for s in df4 if 'suki' in s]
emotion_iya = [s for s in df4 if 'iya' in s]
emotion_takaburi = [s for s in df4 if 'takaburi' in s]
emotion_yasuragi = [s for s in df4 if 'yasu' in s]
emotion_odoroki = [s for s in df4 if 'odoroki' in s]
emotion_na = [s for s in df4 if 'NA' in s]

y_pos = np.arange(len(objects_emotion))
performance = [len(emotion_yorokobi), len(emotion_ikari), len(emotion_aware), len(emotion_kowagari), len(emotion_haji), len(emotion_suki), len(emotion_iya), len(emotion_takaburi), len(emotion_yasuragi), len(emotion_odoroki), len(emotion_na)]
plt.figure(figsize=(12,4))
plt.bar(y_pos, performance, align='center', alpha=0.5, width=0.6)
plt.xticks(y_pos, objects_emotion)
plt.ylabel('Number of tweets')
plt.title('Tweet Emotion')
plt.show()

