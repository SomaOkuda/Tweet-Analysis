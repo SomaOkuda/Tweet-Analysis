{
  "cells": [
    {
      "cell_type": "markdown",
      "metadata": {
        "id": "view-in-github",
        "colab_type": "text"
      },
      "source": [
        "<a href=\"https://colab.research.google.com/github/SomaOkuda/Tweet-Analysis/blob/main/emotion.ipynb\" target=\"_parent\"><img src=\"https://colab.research.google.com/assets/colab-badge.svg\" alt=\"Open In Colab\"/></a>"
      ]
    },
    {
      "cell_type": "code",
      "execution_count": null,
      "metadata": {
        "colab": {
          "base_uri": "https://localhost:8080/"
        },
        "id": "hmz7g5g3Sit9",
        "outputId": "f9431794-3602-4355-f871-9a8f20ecce5a"
      },
      "outputs": [
        {
          "output_type": "stream",
          "name": "stdout",
          "text": [
            "Collecting pymlask\n",
            "  Downloading pymlask-0.3.2.tar.gz (70 kB)\n",
            "\u001b[?25l\r\u001b[K     |████▊                           | 10 kB 32.9 MB/s eta 0:00:01\r\u001b[K     |█████████▍                      | 20 kB 41.6 MB/s eta 0:00:01\r\u001b[K     |██████████████                  | 30 kB 25.5 MB/s eta 0:00:01\r\u001b[K     |██████████████████▊             | 40 kB 22.9 MB/s eta 0:00:01\r\u001b[K     |███████████████████████▍        | 51 kB 18.8 MB/s eta 0:00:01\r\u001b[K     |████████████████████████████    | 61 kB 15.4 MB/s eta 0:00:01\r\u001b[K     |████████████████████████████████| 70 kB 5.1 MB/s \n",
            "\u001b[?25hBuilding wheels for collected packages: pymlask\n",
            "  Building wheel for pymlask (setup.py) ... \u001b[?25l\u001b[?25hdone\n",
            "  Created wheel for pymlask: filename=pymlask-0.3.2-py3-none-any.whl size=74906 sha256=758f69fe8c9f319708f982596974a5bb07a88c2b09e3c50ab3007c8d82358962\n",
            "  Stored in directory: /root/.cache/pip/wheels/28/a8/2b/a4e4b83dc2ee2d492f49a8ad59325fff4d3540254a5a4ac560\n",
            "Successfully built pymlask\n",
            "Installing collected packages: pymlask\n",
            "Successfully installed pymlask-0.3.2\n",
            "Collecting janome\n",
            "  Downloading Janome-0.4.1-py2.py3-none-any.whl (19.7 MB)\n",
            "\u001b[K     |████████████████████████████████| 19.7 MB 13.0 MB/s \n",
            "\u001b[?25hInstalling collected packages: janome\n",
            "Successfully installed janome-0.4.1\n",
            "Reading package lists... Done\n",
            "Building dependency tree       \n",
            "Reading state information... Done\n",
            "The following additional packages will be installed:\n",
            "  aptitude-common libcgi-fast-perl libcgi-pm-perl libclass-accessor-perl\n",
            "  libcwidget3v5 libencode-locale-perl libfcgi-perl libhtml-parser-perl\n",
            "  libhtml-tagset-perl libhttp-date-perl libhttp-message-perl libio-html-perl\n",
            "  libio-string-perl liblwp-mediatypes-perl libparse-debianchangelog-perl\n",
            "  libsigc++-2.0-0v5 libsub-name-perl libtimedate-perl liburi-perl libxapian30\n",
            "  swig3.0\n",
            "Suggested packages:\n",
            "  aptitude-doc-en | aptitude-doc apt-xapian-index debtags tasksel\n",
            "  libcwidget-dev libdata-dump-perl libhtml-template-perl libxml-simple-perl\n",
            "  libwww-perl xapian-tools swig-doc swig-examples swig3.0-examples swig3.0-doc\n",
            "The following NEW packages will be installed:\n",
            "  aptitude aptitude-common libcgi-fast-perl libcgi-pm-perl\n",
            "  libclass-accessor-perl libcwidget3v5 libencode-locale-perl libfcgi-perl\n",
            "  libhtml-parser-perl libhtml-tagset-perl libhttp-date-perl\n",
            "  libhttp-message-perl libio-html-perl libio-string-perl\n",
            "  liblwp-mediatypes-perl libparse-debianchangelog-perl libsigc++-2.0-0v5\n",
            "  libsub-name-perl libtimedate-perl liburi-perl libxapian30 swig swig3.0\n",
            "0 upgraded, 23 newly installed, 0 to remove and 37 not upgraded.\n",
            "Need to get 4,978 kB of archives.\n",
            "After this operation, 21.4 MB of additional disk space will be used.\n",
            "Get:1 http://archive.ubuntu.com/ubuntu bionic/main amd64 aptitude-common all 0.8.10-6ubuntu1 [1,014 kB]\n",
            "Get:2 http://archive.ubuntu.com/ubuntu bionic/main amd64 libsigc++-2.0-0v5 amd64 2.10.0-2 [10.9 kB]\n",
            "Get:3 http://archive.ubuntu.com/ubuntu bionic/main amd64 libcwidget3v5 amd64 0.5.17-7 [286 kB]\n",
            "Get:4 http://archive.ubuntu.com/ubuntu bionic-updates/main amd64 libxapian30 amd64 1.4.5-1ubuntu0.1 [631 kB]\n",
            "Get:5 http://archive.ubuntu.com/ubuntu bionic/main amd64 aptitude amd64 0.8.10-6ubuntu1 [1,269 kB]\n",
            "Get:6 http://archive.ubuntu.com/ubuntu bionic/main amd64 libhtml-tagset-perl all 3.20-3 [12.1 kB]\n",
            "Get:7 http://archive.ubuntu.com/ubuntu bionic/main amd64 liburi-perl all 1.73-1 [77.2 kB]\n",
            "Get:8 http://archive.ubuntu.com/ubuntu bionic/main amd64 libhtml-parser-perl amd64 3.72-3build1 [85.9 kB]\n",
            "Get:9 http://archive.ubuntu.com/ubuntu bionic/main amd64 libcgi-pm-perl all 4.38-1 [185 kB]\n",
            "Get:10 http://archive.ubuntu.com/ubuntu bionic/main amd64 libfcgi-perl amd64 0.78-2build1 [32.8 kB]\n",
            "Get:11 http://archive.ubuntu.com/ubuntu bionic/main amd64 libcgi-fast-perl all 1:2.13-1 [9,940 B]\n",
            "Get:12 http://archive.ubuntu.com/ubuntu bionic/main amd64 libsub-name-perl amd64 0.21-1build1 [11.6 kB]\n",
            "Get:13 http://archive.ubuntu.com/ubuntu bionic/main amd64 libclass-accessor-perl all 0.51-1 [21.2 kB]\n",
            "Get:14 http://archive.ubuntu.com/ubuntu bionic/main amd64 libencode-locale-perl all 1.05-1 [12.3 kB]\n",
            "Get:15 http://archive.ubuntu.com/ubuntu bionic/main amd64 libtimedate-perl all 2.3000-2 [37.5 kB]\n",
            "Get:16 http://archive.ubuntu.com/ubuntu bionic/main amd64 libhttp-date-perl all 6.02-1 [10.4 kB]\n",
            "Get:17 http://archive.ubuntu.com/ubuntu bionic/main amd64 libio-html-perl all 1.001-1 [14.9 kB]\n",
            "Get:18 http://archive.ubuntu.com/ubuntu bionic/main amd64 liblwp-mediatypes-perl all 6.02-1 [21.7 kB]\n",
            "Get:19 http://archive.ubuntu.com/ubuntu bionic/main amd64 libhttp-message-perl all 6.14-1 [72.1 kB]\n",
            "Get:20 http://archive.ubuntu.com/ubuntu bionic/main amd64 libio-string-perl all 1.08-3 [11.1 kB]\n",
            "Get:21 http://archive.ubuntu.com/ubuntu bionic/main amd64 libparse-debianchangelog-perl all 1.2.0-12 [49.5 kB]\n",
            "Get:22 http://archive.ubuntu.com/ubuntu bionic/universe amd64 swig3.0 amd64 3.0.12-1 [1,094 kB]\n",
            "Get:23 http://archive.ubuntu.com/ubuntu bionic/universe amd64 swig amd64 3.0.12-1 [6,460 B]\n",
            "Fetched 4,978 kB in 0s (25.7 MB/s)\n",
            "Selecting previously unselected package aptitude-common.\n",
            "(Reading database ... 155229 files and directories currently installed.)\n",
            "Preparing to unpack .../00-aptitude-common_0.8.10-6ubuntu1_all.deb ...\n",
            "Unpacking aptitude-common (0.8.10-6ubuntu1) ...\n",
            "Selecting previously unselected package libsigc++-2.0-0v5:amd64.\n",
            "Preparing to unpack .../01-libsigc++-2.0-0v5_2.10.0-2_amd64.deb ...\n",
            "Unpacking libsigc++-2.0-0v5:amd64 (2.10.0-2) ...\n",
            "Selecting previously unselected package libcwidget3v5:amd64.\n",
            "Preparing to unpack .../02-libcwidget3v5_0.5.17-7_amd64.deb ...\n",
            "Unpacking libcwidget3v5:amd64 (0.5.17-7) ...\n",
            "Selecting previously unselected package libxapian30:amd64.\n",
            "Preparing to unpack .../03-libxapian30_1.4.5-1ubuntu0.1_amd64.deb ...\n",
            "Unpacking libxapian30:amd64 (1.4.5-1ubuntu0.1) ...\n",
            "Selecting previously unselected package aptitude.\n",
            "Preparing to unpack .../04-aptitude_0.8.10-6ubuntu1_amd64.deb ...\n",
            "Unpacking aptitude (0.8.10-6ubuntu1) ...\n",
            "Selecting previously unselected package libhtml-tagset-perl.\n",
            "Preparing to unpack .../05-libhtml-tagset-perl_3.20-3_all.deb ...\n",
            "Unpacking libhtml-tagset-perl (3.20-3) ...\n",
            "Selecting previously unselected package liburi-perl.\n",
            "Preparing to unpack .../06-liburi-perl_1.73-1_all.deb ...\n",
            "Unpacking liburi-perl (1.73-1) ...\n",
            "Selecting previously unselected package libhtml-parser-perl.\n",
            "Preparing to unpack .../07-libhtml-parser-perl_3.72-3build1_amd64.deb ...\n",
            "Unpacking libhtml-parser-perl (3.72-3build1) ...\n",
            "Selecting previously unselected package libcgi-pm-perl.\n",
            "Preparing to unpack .../08-libcgi-pm-perl_4.38-1_all.deb ...\n",
            "Unpacking libcgi-pm-perl (4.38-1) ...\n",
            "Selecting previously unselected package libfcgi-perl.\n",
            "Preparing to unpack .../09-libfcgi-perl_0.78-2build1_amd64.deb ...\n",
            "Unpacking libfcgi-perl (0.78-2build1) ...\n",
            "Selecting previously unselected package libcgi-fast-perl.\n",
            "Preparing to unpack .../10-libcgi-fast-perl_1%3a2.13-1_all.deb ...\n",
            "Unpacking libcgi-fast-perl (1:2.13-1) ...\n",
            "Selecting previously unselected package libsub-name-perl.\n",
            "Preparing to unpack .../11-libsub-name-perl_0.21-1build1_amd64.deb ...\n",
            "Unpacking libsub-name-perl (0.21-1build1) ...\n",
            "Selecting previously unselected package libclass-accessor-perl.\n",
            "Preparing to unpack .../12-libclass-accessor-perl_0.51-1_all.deb ...\n",
            "Unpacking libclass-accessor-perl (0.51-1) ...\n",
            "Selecting previously unselected package libencode-locale-perl.\n",
            "Preparing to unpack .../13-libencode-locale-perl_1.05-1_all.deb ...\n",
            "Unpacking libencode-locale-perl (1.05-1) ...\n",
            "Selecting previously unselected package libtimedate-perl.\n",
            "Preparing to unpack .../14-libtimedate-perl_2.3000-2_all.deb ...\n",
            "Unpacking libtimedate-perl (2.3000-2) ...\n",
            "Selecting previously unselected package libhttp-date-perl.\n",
            "Preparing to unpack .../15-libhttp-date-perl_6.02-1_all.deb ...\n",
            "Unpacking libhttp-date-perl (6.02-1) ...\n",
            "Selecting previously unselected package libio-html-perl.\n",
            "Preparing to unpack .../16-libio-html-perl_1.001-1_all.deb ...\n",
            "Unpacking libio-html-perl (1.001-1) ...\n",
            "Selecting previously unselected package liblwp-mediatypes-perl.\n",
            "Preparing to unpack .../17-liblwp-mediatypes-perl_6.02-1_all.deb ...\n",
            "Unpacking liblwp-mediatypes-perl (6.02-1) ...\n",
            "Selecting previously unselected package libhttp-message-perl.\n",
            "Preparing to unpack .../18-libhttp-message-perl_6.14-1_all.deb ...\n",
            "Unpacking libhttp-message-perl (6.14-1) ...\n",
            "Selecting previously unselected package libio-string-perl.\n",
            "Preparing to unpack .../19-libio-string-perl_1.08-3_all.deb ...\n",
            "Unpacking libio-string-perl (1.08-3) ...\n",
            "Selecting previously unselected package libparse-debianchangelog-perl.\n",
            "Preparing to unpack .../20-libparse-debianchangelog-perl_1.2.0-12_all.deb ...\n",
            "Unpacking libparse-debianchangelog-perl (1.2.0-12) ...\n",
            "Selecting previously unselected package swig3.0.\n",
            "Preparing to unpack .../21-swig3.0_3.0.12-1_amd64.deb ...\n",
            "Unpacking swig3.0 (3.0.12-1) ...\n",
            "Selecting previously unselected package swig.\n",
            "Preparing to unpack .../22-swig_3.0.12-1_amd64.deb ...\n",
            "Unpacking swig (3.0.12-1) ...\n",
            "Setting up libhtml-tagset-perl (3.20-3) ...\n",
            "Setting up libxapian30:amd64 (1.4.5-1ubuntu0.1) ...\n",
            "Setting up swig3.0 (3.0.12-1) ...\n",
            "Setting up libencode-locale-perl (1.05-1) ...\n",
            "Setting up libtimedate-perl (2.3000-2) ...\n",
            "Setting up libio-html-perl (1.001-1) ...\n",
            "Setting up aptitude-common (0.8.10-6ubuntu1) ...\n",
            "Setting up liblwp-mediatypes-perl (6.02-1) ...\n",
            "Setting up liburi-perl (1.73-1) ...\n",
            "Setting up libhtml-parser-perl (3.72-3build1) ...\n",
            "Setting up libcgi-pm-perl (4.38-1) ...\n",
            "Setting up libio-string-perl (1.08-3) ...\n",
            "Setting up libsub-name-perl (0.21-1build1) ...\n",
            "Setting up libfcgi-perl (0.78-2build1) ...\n",
            "Setting up libsigc++-2.0-0v5:amd64 (2.10.0-2) ...\n",
            "Setting up libclass-accessor-perl (0.51-1) ...\n",
            "Setting up swig (3.0.12-1) ...\n",
            "Setting up libhttp-date-perl (6.02-1) ...\n",
            "Setting up libcgi-fast-perl (1:2.13-1) ...\n",
            "Setting up libparse-debianchangelog-perl (1.2.0-12) ...\n",
            "Setting up libhttp-message-perl (6.14-1) ...\n",
            "Setting up libcwidget3v5:amd64 (0.5.17-7) ...\n",
            "Setting up aptitude (0.8.10-6ubuntu1) ...\n",
            "update-alternatives: using /usr/bin/aptitude-curses to provide /usr/bin/aptitude (aptitude) in auto mode\n",
            "Processing triggers for man-db (2.8.3-2ubuntu0.1) ...\n",
            "Processing triggers for libc-bin (2.27-3ubuntu1.3) ...\n",
            "/sbin/ldconfig.real: /usr/local/lib/python3.7/dist-packages/ideep4py/lib/libmkldnn.so.0 is not a symbolic link\n",
            "\n",
            "git is already installed at the requested version (1:2.17.1-1ubuntu0.9)\n",
            "make is already installed at the requested version (4.1-9.1ubuntu1)\n",
            "curl is already installed at the requested version (7.58.0-2ubuntu3.16)\n",
            "xz-utils is already installed at the requested version (5.2.2-1.3)\n",
            "git is already installed at the requested version (1:2.17.1-1ubuntu0.9)\n",
            "make is already installed at the requested version (4.1-9.1ubuntu1)\n",
            "curl is already installed at the requested version (7.58.0-2ubuntu3.16)\n",
            "xz-utils is already installed at the requested version (5.2.2-1.3)\n",
            "The following NEW packages will be installed:\n",
            "  file libmagic-mgc{a} libmagic1{a} libmecab-dev libmecab2{a} mecab mecab-ipadic{a} mecab-ipadic-utf8 mecab-jumandic{a} mecab-jumandic-utf8{a} mecab-utils{a} \n",
            "0 packages upgraded, 11 newly installed, 0 to remove and 37 not upgraded.\n",
            "Need to get 29.3 MB of archives. After unpacking 282 MB will be used.\n",
            "Get: 1 http://archive.ubuntu.com/ubuntu bionic-updates/main amd64 libmagic-mgc amd64 1:5.32-2ubuntu0.4 [184 kB]\n",
            "Get: 2 http://archive.ubuntu.com/ubuntu bionic-updates/main amd64 libmagic1 amd64 1:5.32-2ubuntu0.4 [68.6 kB]\n",
            "Get: 3 http://archive.ubuntu.com/ubuntu bionic-updates/main amd64 file amd64 1:5.32-2ubuntu0.4 [22.1 kB]\n",
            "Get: 4 http://archive.ubuntu.com/ubuntu bionic/universe amd64 libmecab2 amd64 0.996-5 [257 kB]\n",
            "Get: 5 http://archive.ubuntu.com/ubuntu bionic/universe amd64 libmecab-dev amd64 0.996-5 [308 kB]\n",
            "Get: 6 http://archive.ubuntu.com/ubuntu bionic/universe amd64 mecab-utils amd64 0.996-5 [4,856 B]\n",
            "Get: 7 http://archive.ubuntu.com/ubuntu bionic/universe amd64 mecab-jumandic-utf8 all 7.0-20130310-4 [16.2 MB]\n",
            "Get: 8 http://archive.ubuntu.com/ubuntu bionic/universe amd64 mecab-jumandic all 7.0-20130310-4 [2,212 B]\n",
            "Get: 9 http://archive.ubuntu.com/ubuntu bionic/universe amd64 mecab-ipadic all 2.7.0-20070801+main-1 [12.1 MB]\n",
            "Get: 10 http://archive.ubuntu.com/ubuntu bionic/universe amd64 mecab amd64 0.996-5 [132 kB]\n",
            "Get: 11 http://archive.ubuntu.com/ubuntu bionic/universe amd64 mecab-ipadic-utf8 all 2.7.0-20070801+main-1 [3,522 B]\n",
            "Fetched 29.3 MB in 0s (72.5 MB/s)\n",
            "Selecting previously unselected package libmagic-mgc.\n",
            "(Reading database ... 156479 files and directories currently installed.)\n",
            "Preparing to unpack .../00-libmagic-mgc_1%3a5.32-2ubuntu0.4_amd64.deb ...\n",
            "Unpacking libmagic-mgc (1:5.32-2ubuntu0.4) ...\n",
            "Selecting previously unselected package libmagic1:amd64.\n",
            "Preparing to unpack .../01-libmagic1_1%3a5.32-2ubuntu0.4_amd64.deb ...\n",
            "Unpacking libmagic1:amd64 (1:5.32-2ubuntu0.4) ...\n",
            "Selecting previously unselected package file.\n",
            "Preparing to unpack .../02-file_1%3a5.32-2ubuntu0.4_amd64.deb ...\n",
            "Unpacking file (1:5.32-2ubuntu0.4) ...\n",
            "Selecting previously unselected package libmecab2:amd64.\n",
            "Preparing to unpack .../03-libmecab2_0.996-5_amd64.deb ...\n",
            "Unpacking libmecab2:amd64 (0.996-5) ...\n",
            "Selecting previously unselected package libmecab-dev.\n",
            "Preparing to unpack .../04-libmecab-dev_0.996-5_amd64.deb ...\n",
            "Unpacking libmecab-dev (0.996-5) ...\n",
            "Selecting previously unselected package mecab-utils.\n",
            "Preparing to unpack .../05-mecab-utils_0.996-5_amd64.deb ...\n",
            "Unpacking mecab-utils (0.996-5) ...\n",
            "Selecting previously unselected package mecab-jumandic-utf8.\n",
            "Preparing to unpack .../06-mecab-jumandic-utf8_7.0-20130310-4_all.deb ...\n",
            "Unpacking mecab-jumandic-utf8 (7.0-20130310-4) ...\n",
            "Selecting previously unselected package mecab-jumandic.\n",
            "Preparing to unpack .../07-mecab-jumandic_7.0-20130310-4_all.deb ...\n",
            "Unpacking mecab-jumandic (7.0-20130310-4) ...\n",
            "Selecting previously unselected package mecab-ipadic.\n",
            "Preparing to unpack .../08-mecab-ipadic_2.7.0-20070801+main-1_all.deb ...\n",
            "Unpacking mecab-ipadic (2.7.0-20070801+main-1) ...\n",
            "Selecting previously unselected package mecab.\n",
            "Preparing to unpack .../09-mecab_0.996-5_amd64.deb ...\n",
            "Unpacking mecab (0.996-5) ...\n",
            "Selecting previously unselected package mecab-ipadic-utf8.\n",
            "Preparing to unpack .../10-mecab-ipadic-utf8_2.7.0-20070801+main-1_all.deb ...\n",
            "Unpacking mecab-ipadic-utf8 (2.7.0-20070801+main-1) ...\n",
            "Setting up libmecab2:amd64 (0.996-5) ...\n",
            "Setting up libmagic-mgc (1:5.32-2ubuntu0.4) ...\n",
            "Setting up libmagic1:amd64 (1:5.32-2ubuntu0.4) ...\n",
            "Setting up mecab-utils (0.996-5) ...\n",
            "Setting up mecab-ipadic (2.7.0-20070801+main-1) ...\n",
            "Compiling IPA dictionary for Mecab.  This takes long time...\n",
            "reading /usr/share/mecab/dic/ipadic/unk.def ... 40\n",
            "emitting double-array: 100% |###########################################| \n",
            "/usr/share/mecab/dic/ipadic/model.def is not found. skipped.\n",
            "reading /usr/share/mecab/dic/ipadic/Postp.csv ... 146\n",
            "reading /usr/share/mecab/dic/ipadic/Noun.demonst.csv ... 120\n",
            "reading /usr/share/mecab/dic/ipadic/Suffix.csv ... 1393\n",
            "reading /usr/share/mecab/dic/ipadic/Noun.proper.csv ... 27327\n",
            "reading /usr/share/mecab/dic/ipadic/Noun.csv ... 60477\n",
            "reading /usr/share/mecab/dic/ipadic/Postp-col.csv ... 91\n",
            "reading /usr/share/mecab/dic/ipadic/Adnominal.csv ... 135\n",
            "reading /usr/share/mecab/dic/ipadic/Noun.others.csv ... 151\n",
            "reading /usr/share/mecab/dic/ipadic/Noun.name.csv ... 34202\n",
            "reading /usr/share/mecab/dic/ipadic/Noun.nai.csv ... 42\n",
            "reading /usr/share/mecab/dic/ipadic/Adverb.csv ... 3032\n",
            "reading /usr/share/mecab/dic/ipadic/Noun.number.csv ... 42\n",
            "reading /usr/share/mecab/dic/ipadic/Adj.csv ... 27210\n",
            "reading /usr/share/mecab/dic/ipadic/Prefix.csv ... 221\n",
            "reading /usr/share/mecab/dic/ipadic/Noun.adjv.csv ... 3328\n",
            "reading /usr/share/mecab/dic/ipadic/Filler.csv ... 19\n",
            "reading /usr/share/mecab/dic/ipadic/Symbol.csv ... 208\n",
            "reading /usr/share/mecab/dic/ipadic/Noun.verbal.csv ... 12146\n",
            "reading /usr/share/mecab/dic/ipadic/Noun.adverbal.csv ... 795\n",
            "reading /usr/share/mecab/dic/ipadic/Noun.org.csv ... 16668\n",
            "reading /usr/share/mecab/dic/ipadic/Noun.place.csv ... 72999\n",
            "reading /usr/share/mecab/dic/ipadic/Interjection.csv ... 252\n",
            "reading /usr/share/mecab/dic/ipadic/Others.csv ... 2\n",
            "reading /usr/share/mecab/dic/ipadic/Conjunction.csv ... 171\n",
            "reading /usr/share/mecab/dic/ipadic/Auxil.csv ... 199\n",
            "reading /usr/share/mecab/dic/ipadic/Verb.csv ... 130750\n",
            "emitting double-array: 100% |###########################################| \n",
            "reading /usr/share/mecab/dic/ipadic/matrix.def ... 1316x1316\n",
            "emitting matrix      : 100% |###########################################| \n",
            "\n",
            "done!\n",
            "update-alternatives: using /var/lib/mecab/dic/ipadic to provide /var/lib/mecab/dic/debian (mecab-dictionary) in auto mode\n",
            "Setting up libmecab-dev (0.996-5) ...\n",
            "Setting up file (1:5.32-2ubuntu0.4) ...\n",
            "Setting up mecab-jumandic-utf8 (7.0-20130310-4) ...\n",
            "Compiling Juman dictionary for Mecab.\n",
            "reading /usr/share/mecab/dic/juman/unk.def ... 37\n",
            "emitting double-array: 100% |###########################################| \n",
            "reading /usr/share/mecab/dic/juman/Postp.csv ... 108\n",
            "reading /usr/share/mecab/dic/juman/Suffix.csv ... 2128\n",
            "reading /usr/share/mecab/dic/juman/Noun.hukusi.csv ... 81\n",
            "reading /usr/share/mecab/dic/juman/Noun.koyuu.csv ... 7964\n",
            "reading /usr/share/mecab/dic/juman/Prefix.csv ... 90\n",
            "reading /usr/share/mecab/dic/juman/Noun.keishiki.csv ... 8\n",
            "reading /usr/share/mecab/dic/juman/Demonstrative.csv ... 97\n",
            "reading /usr/share/mecab/dic/juman/Auto.csv ... 18931\n",
            "reading /usr/share/mecab/dic/juman/Assert.csv ... 34\n",
            "reading /usr/share/mecab/dic/juman/Emoticon.csv ... 972\n",
            "reading /usr/share/mecab/dic/juman/Special.csv ... 158\n",
            "reading /usr/share/mecab/dic/juman/ContentW.csv ... 551145\n",
            "reading /usr/share/mecab/dic/juman/AuxV.csv ... 593\n",
            "reading /usr/share/mecab/dic/juman/Rengo.csv ... 1118\n",
            "reading /usr/share/mecab/dic/juman/Wikipedia.csv ... 167709\n",
            "reading /usr/share/mecab/dic/juman/Noun.suusi.csv ... 49\n",
            "emitting double-array: 100% |###########################################| \n",
            "reading /usr/share/mecab/dic/juman/matrix.def ... 1876x1876\n",
            "emitting matrix      : 100% |###########################################| \n",
            "\n",
            "done!\n",
            "Setting up mecab-ipadic-utf8 (2.7.0-20070801+main-1) ...\n",
            "Compiling IPA dictionary for Mecab.  This takes long time...\n",
            "reading /usr/share/mecab/dic/ipadic/unk.def ... 40\n",
            "emitting double-array: 100% |###########################################| \n",
            "/usr/share/mecab/dic/ipadic/model.def is not found. skipped.\n",
            "reading /usr/share/mecab/dic/ipadic/Postp.csv ... 146\n",
            "reading /usr/share/mecab/dic/ipadic/Noun.demonst.csv ... 120\n",
            "reading /usr/share/mecab/dic/ipadic/Suffix.csv ... 1393\n",
            "reading /usr/share/mecab/dic/ipadic/Noun.proper.csv ... 27327\n",
            "reading /usr/share/mecab/dic/ipadic/Noun.csv ... 60477\n",
            "reading /usr/share/mecab/dic/ipadic/Postp-col.csv ... 91\n",
            "reading /usr/share/mecab/dic/ipadic/Adnominal.csv ... 135\n",
            "reading /usr/share/mecab/dic/ipadic/Noun.others.csv ... 151\n",
            "reading /usr/share/mecab/dic/ipadic/Noun.name.csv ... 34202\n",
            "reading /usr/share/mecab/dic/ipadic/Noun.nai.csv ... 42\n",
            "reading /usr/share/mecab/dic/ipadic/Adverb.csv ... 3032\n",
            "reading /usr/share/mecab/dic/ipadic/Noun.number.csv ... 42\n",
            "reading /usr/share/mecab/dic/ipadic/Adj.csv ... 27210\n",
            "reading /usr/share/mecab/dic/ipadic/Prefix.csv ... 221\n",
            "reading /usr/share/mecab/dic/ipadic/Noun.adjv.csv ... 3328\n",
            "reading /usr/share/mecab/dic/ipadic/Filler.csv ... 19\n",
            "reading /usr/share/mecab/dic/ipadic/Symbol.csv ... 208\n",
            "reading /usr/share/mecab/dic/ipadic/Noun.verbal.csv ... 12146\n",
            "reading /usr/share/mecab/dic/ipadic/Noun.adverbal.csv ... 795\n",
            "reading /usr/share/mecab/dic/ipadic/Noun.org.csv ... 16668\n",
            "reading /usr/share/mecab/dic/ipadic/Noun.place.csv ... 72999\n",
            "reading /usr/share/mecab/dic/ipadic/Interjection.csv ... 252\n",
            "reading /usr/share/mecab/dic/ipadic/Others.csv ... 2\n",
            "reading /usr/share/mecab/dic/ipadic/Conjunction.csv ... 171\n",
            "reading /usr/share/mecab/dic/ipadic/Auxil.csv ... 199\n",
            "reading /usr/share/mecab/dic/ipadic/Verb.csv ... 130750\n",
            "emitting double-array: 100% |###########################################| \n",
            "reading /usr/share/mecab/dic/ipadic/matrix.def ... 1316x1316\n",
            "emitting matrix      : 100% |###########################################| \n",
            "\n",
            "done!\n",
            "update-alternatives: using /var/lib/mecab/dic/ipadic-utf8 to provide /var/lib/mecab/dic/debian (mecab-dictionary) in auto mode\n",
            "Setting up mecab (0.996-5) ...\n",
            "Compiling IPA dictionary for Mecab.  This takes long time...\n",
            "reading /usr/share/mecab/dic/ipadic/unk.def ... 40\n",
            "emitting double-array: 100% |###########################################| \n",
            "/usr/share/mecab/dic/ipadic/model.def is not found. skipped.\n",
            "reading /usr/share/mecab/dic/ipadic/Postp.csv ... 146\n",
            "reading /usr/share/mecab/dic/ipadic/Noun.demonst.csv ... 120\n",
            "reading /usr/share/mecab/dic/ipadic/Suffix.csv ... 1393\n",
            "reading /usr/share/mecab/dic/ipadic/Noun.proper.csv ... 27327\n",
            "reading /usr/share/mecab/dic/ipadic/Noun.csv ... 60477\n",
            "reading /usr/share/mecab/dic/ipadic/Postp-col.csv ... 91\n",
            "reading /usr/share/mecab/dic/ipadic/Adnominal.csv ... 135\n",
            "reading /usr/share/mecab/dic/ipadic/Noun.others.csv ... 151\n",
            "reading /usr/share/mecab/dic/ipadic/Noun.name.csv ... 34202\n",
            "reading /usr/share/mecab/dic/ipadic/Noun.nai.csv ... 42\n",
            "reading /usr/share/mecab/dic/ipadic/Adverb.csv ... 3032\n",
            "reading /usr/share/mecab/dic/ipadic/Noun.number.csv ... 42\n",
            "reading /usr/share/mecab/dic/ipadic/Adj.csv ... 27210\n",
            "reading /usr/share/mecab/dic/ipadic/Prefix.csv ... 221\n",
            "reading /usr/share/mecab/dic/ipadic/Noun.adjv.csv ... 3328\n",
            "reading /usr/share/mecab/dic/ipadic/Filler.csv ... 19\n",
            "reading /usr/share/mecab/dic/ipadic/Symbol.csv ... 208\n",
            "reading /usr/share/mecab/dic/ipadic/Noun.verbal.csv ... 12146\n",
            "reading /usr/share/mecab/dic/ipadic/Noun.adverbal.csv ... 795\n",
            "reading /usr/share/mecab/dic/ipadic/Noun.org.csv ... 16668\n",
            "reading /usr/share/mecab/dic/ipadic/Noun.place.csv ... 72999\n",
            "reading /usr/share/mecab/dic/ipadic/Interjection.csv ... 252\n",
            "reading /usr/share/mecab/dic/ipadic/Others.csv ... 2\n",
            "reading /usr/share/mecab/dic/ipadic/Conjunction.csv ... 171\n",
            "reading /usr/share/mecab/dic/ipadic/Auxil.csv ... 199\n",
            "reading /usr/share/mecab/dic/ipadic/Verb.csv ... 130750\n",
            "emitting double-array: 100% |###########################################| \n",
            "reading /usr/share/mecab/dic/ipadic/matrix.def ... 1316x1316\n",
            "emitting matrix      : 100% |###########################################| \n",
            "\n",
            "done!\n",
            "Setting up mecab-jumandic (7.0-20130310-4) ...\n",
            "Processing triggers for man-db (2.8.3-2ubuntu0.1) ...\n",
            "Processing triggers for libc-bin (2.27-3ubuntu1.3) ...\n",
            "/sbin/ldconfig.real: /usr/local/lib/python3.7/dist-packages/ideep4py/lib/libmkldnn.so.0 is not a symbolic link\n",
            "\n",
            "                            \n",
            "Collecting mecab-python3==0.996.3\n",
            "  Downloading mecab_python3-0.996.3-cp37-cp37m-manylinux2010_x86_64.whl (17.1 MB)\n",
            "\u001b[K     |████████████████████████████████| 17.1 MB 12.9 MB/s \n",
            "\u001b[?25hInstalling collected packages: mecab-python3\n",
            "Successfully installed mecab-python3-0.996.3\n",
            "Cloning into 'mecab-ipadic-neologd'...\n",
            "remote: Enumerating objects: 75, done.\u001b[K\n",
            "remote: Counting objects: 100% (75/75), done.\u001b[K\n",
            "remote: Compressing objects: 100% (74/74), done.\u001b[K\n",
            "remote: Total 75 (delta 5), reused 54 (delta 0), pack-reused 0\u001b[K\n",
            "Unpacking objects: 100% (75/75), done.\n",
            "[install-mecab-ipadic-NEologd] : Start..\n",
            "[install-mecab-ipadic-NEologd] : Check the existance of libraries\n",
            "[install-mecab-ipadic-NEologd] :     find => ok\n",
            "[install-mecab-ipadic-NEologd] :     sort => ok\n",
            "[install-mecab-ipadic-NEologd] :     head => ok\n",
            "[install-mecab-ipadic-NEologd] :     cut => ok\n",
            "[install-mecab-ipadic-NEologd] :     egrep => ok\n",
            "[install-mecab-ipadic-NEologd] :     mecab => ok\n",
            "[install-mecab-ipadic-NEologd] :     mecab-config => ok\n",
            "[install-mecab-ipadic-NEologd] :     make => ok\n",
            "[install-mecab-ipadic-NEologd] :     curl => ok\n",
            "[install-mecab-ipadic-NEologd] :     sed => ok\n",
            "[install-mecab-ipadic-NEologd] :     cat => ok\n",
            "[install-mecab-ipadic-NEologd] :     diff => ok\n",
            "[install-mecab-ipadic-NEologd] :     tar => ok\n",
            "[install-mecab-ipadic-NEologd] :     unxz => ok\n",
            "[install-mecab-ipadic-NEologd] :     xargs => ok\n",
            "[install-mecab-ipadic-NEologd] :     grep => ok\n",
            "[install-mecab-ipadic-NEologd] :     iconv => ok\n",
            "[install-mecab-ipadic-NEologd] :     patch => ok\n",
            "[install-mecab-ipadic-NEologd] :     which => ok\n",
            "[install-mecab-ipadic-NEologd] :     file => ok\n",
            "[install-mecab-ipadic-NEologd] :     openssl => ok\n",
            "[install-mecab-ipadic-NEologd] :     awk => ok\n",
            "\n",
            "[install-mecab-ipadic-NEologd] : mecab-ipadic-NEologd is already up-to-date\n",
            "\n",
            "[install-mecab-ipadic-NEologd] : mecab-ipadic-NEologd will be install to /usr/lib/x86_64-linux-gnu/mecab/dic/mecab-ipadic-neologd\n",
            "\n",
            "[install-mecab-ipadic-NEologd] : Make mecab-ipadic-NEologd\n",
            "[make-mecab-ipadic-NEologd] : Start..\n",
            "[make-mecab-ipadic-NEologd] : Check local seed directory\n",
            "[make-mecab-ipadic-NEologd] : Check local seed file\n",
            "[make-mecab-ipadic-NEologd] : Check local build directory\n",
            "[make-mecab-ipadic-NEologd] : create /content/mecab-ipadic-neologd/libexec/../build\n",
            "[make-mecab-ipadic-NEologd] : Download original mecab-ipadic file\n",
            "[make-mecab-ipadic-NEologd] : Try to access to https://ja.osdn.net\n",
            "[make-mecab-ipadic-NEologd] : Unable to access https://ja.osdn.net\n",
            "[make-mecab-ipadic-NEologd] :     Status code : 502\n",
            "[make-mecab-ipadic-NEologd] : Try to access to https://drive.google.com\n",
            "[make-mecab-ipadic-NEologd] : Try to download from https://ja.osdn.net/frs/g_redir.php?m=kent&f=mecab%2Fmecab-ipadic%2F2.7.0-20070801%2Fmecab-ipadic-2.7.0-20070801.tar.gz\n",
            "  % Total    % Received % Xferd  Average Speed   Time    Time     Time  Current\n",
            "                                 Dload  Upload   Total   Spent    Left  Speed\n",
            "100   122  100   122    0     0    186      0 --:--:-- --:--:-- --:--:--   186\n",
            "\n",
            "Hash value of /content/mecab-ipadic-neologd/libexec/../build/mecab-ipadic-2.7.0-20070801.tar.gz don't match\n",
            "[make-mecab-ipadic-NEologd] : Try to download from https://drive.google.com/uc?export=download&id=0B4y35FiV1wh7MWVlSDBCSXZMTXM\n",
            "  % Total    % Received % Xferd  Average Speed   Time    Time     Time  Current\n",
            "                                 Dload  Upload   Total   Spent    Left  Speed\n",
            "100   383    0   383    0     0     76      0 --:--:--  0:00:05 --:--:--   100\n",
            "100 11.6M  100 11.6M    0     0  2202k      0  0:00:05  0:00:05 --:--:--  194M\n",
            "Hash value of /content/mecab-ipadic-neologd/libexec/../build/mecab-ipadic-2.7.0-20070801.tar.gz matched\n",
            "[make-mecab-ipadic-NEologd] : Decompress original mecab-ipadic file\n",
            "mecab-ipadic-2.7.0-20070801/\n",
            "mecab-ipadic-2.7.0-20070801/README\n",
            "mecab-ipadic-2.7.0-20070801/AUTHORS\n",
            "mecab-ipadic-2.7.0-20070801/COPYING\n",
            "mecab-ipadic-2.7.0-20070801/ChangeLog\n",
            "mecab-ipadic-2.7.0-20070801/INSTALL\n",
            "mecab-ipadic-2.7.0-20070801/Makefile.am\n",
            "mecab-ipadic-2.7.0-20070801/Makefile.in\n",
            "mecab-ipadic-2.7.0-20070801/NEWS\n",
            "mecab-ipadic-2.7.0-20070801/aclocal.m4\n",
            "mecab-ipadic-2.7.0-20070801/config.guess\n",
            "mecab-ipadic-2.7.0-20070801/config.sub\n",
            "mecab-ipadic-2.7.0-20070801/configure\n",
            "mecab-ipadic-2.7.0-20070801/configure.in\n",
            "mecab-ipadic-2.7.0-20070801/install-sh\n",
            "mecab-ipadic-2.7.0-20070801/missing\n",
            "mecab-ipadic-2.7.0-20070801/mkinstalldirs\n",
            "mecab-ipadic-2.7.0-20070801/Adj.csv\n",
            "mecab-ipadic-2.7.0-20070801/Adnominal.csv\n",
            "mecab-ipadic-2.7.0-20070801/Adverb.csv\n",
            "mecab-ipadic-2.7.0-20070801/Auxil.csv\n",
            "mecab-ipadic-2.7.0-20070801/Conjunction.csv\n",
            "mecab-ipadic-2.7.0-20070801/Filler.csv\n",
            "mecab-ipadic-2.7.0-20070801/Interjection.csv\n",
            "mecab-ipadic-2.7.0-20070801/Noun.adjv.csv\n",
            "mecab-ipadic-2.7.0-20070801/Noun.adverbal.csv\n",
            "mecab-ipadic-2.7.0-20070801/Noun.csv\n",
            "mecab-ipadic-2.7.0-20070801/Noun.demonst.csv\n",
            "mecab-ipadic-2.7.0-20070801/Noun.nai.csv\n",
            "mecab-ipadic-2.7.0-20070801/Noun.name.csv\n",
            "mecab-ipadic-2.7.0-20070801/Noun.number.csv\n",
            "mecab-ipadic-2.7.0-20070801/Noun.org.csv\n",
            "mecab-ipadic-2.7.0-20070801/Noun.others.csv\n",
            "mecab-ipadic-2.7.0-20070801/Noun.place.csv\n",
            "mecab-ipadic-2.7.0-20070801/Noun.proper.csv\n",
            "mecab-ipadic-2.7.0-20070801/Noun.verbal.csv\n",
            "mecab-ipadic-2.7.0-20070801/Others.csv\n",
            "mecab-ipadic-2.7.0-20070801/Postp-col.csv\n",
            "mecab-ipadic-2.7.0-20070801/Postp.csv\n",
            "mecab-ipadic-2.7.0-20070801/Prefix.csv\n",
            "mecab-ipadic-2.7.0-20070801/Suffix.csv\n",
            "mecab-ipadic-2.7.0-20070801/Symbol.csv\n",
            "mecab-ipadic-2.7.0-20070801/Verb.csv\n",
            "mecab-ipadic-2.7.0-20070801/char.def\n",
            "mecab-ipadic-2.7.0-20070801/feature.def\n",
            "mecab-ipadic-2.7.0-20070801/left-id.def\n",
            "mecab-ipadic-2.7.0-20070801/matrix.def\n",
            "mecab-ipadic-2.7.0-20070801/pos-id.def\n",
            "mecab-ipadic-2.7.0-20070801/rewrite.def\n",
            "mecab-ipadic-2.7.0-20070801/right-id.def\n",
            "mecab-ipadic-2.7.0-20070801/unk.def\n",
            "mecab-ipadic-2.7.0-20070801/dicrc\n",
            "mecab-ipadic-2.7.0-20070801/RESULT\n",
            "[make-mecab-ipadic-NEologd] : Configure custom system dictionary on /content/mecab-ipadic-neologd/libexec/../build/mecab-ipadic-2.7.0-20070801-neologd-20200910\n",
            "checking for a BSD-compatible install... /usr/bin/install -c\n",
            "checking whether build environment is sane... yes\n",
            "checking whether make sets $(MAKE)... yes\n",
            "checking for working aclocal-1.4... missing\n",
            "checking for working autoconf... missing\n",
            "checking for working automake-1.4... missing\n",
            "checking for working autoheader... missing\n",
            "checking for working makeinfo... missing\n",
            "checking for a BSD-compatible install... /usr/bin/install -c\n",
            "checking for mecab-config... /usr/bin/mecab-config\n",
            "configure: creating ./config.status\n",
            "config.status: creating Makefile\n",
            "[make-mecab-ipadic-NEologd] : Encode the character encoding of system dictionary resources from EUC_JP to UTF-8\n",
            "./../../libexec/iconv_euc_to_utf8.sh ./Postp.csv \n",
            "./../../libexec/iconv_euc_to_utf8.sh ./Noun.demonst.csv \n",
            "./../../libexec/iconv_euc_to_utf8.sh ./Suffix.csv \n",
            "./../../libexec/iconv_euc_to_utf8.sh ./Noun.proper.csv \n",
            "./../../libexec/iconv_euc_to_utf8.sh ./Noun.csv \n",
            "./../../libexec/iconv_euc_to_utf8.sh ./Postp-col.csv \n",
            "./../../libexec/iconv_euc_to_utf8.sh ./Adnominal.csv \n",
            "./../../libexec/iconv_euc_to_utf8.sh ./Noun.others.csv \n",
            "./../../libexec/iconv_euc_to_utf8.sh ./Noun.name.csv \n",
            "./../../libexec/iconv_euc_to_utf8.sh ./Noun.nai.csv \n",
            "./../../libexec/iconv_euc_to_utf8.sh ./Adverb.csv \n",
            "./../../libexec/iconv_euc_to_utf8.sh ./Noun.number.csv \n",
            "./../../libexec/iconv_euc_to_utf8.sh ./Adj.csv \n",
            "./../../libexec/iconv_euc_to_utf8.sh ./Prefix.csv \n",
            "./../../libexec/iconv_euc_to_utf8.sh ./Noun.adjv.csv \n",
            "./../../libexec/iconv_euc_to_utf8.sh ./Filler.csv \n",
            "./../../libexec/iconv_euc_to_utf8.sh ./Symbol.csv \n",
            "./../../libexec/iconv_euc_to_utf8.sh ./Noun.verbal.csv \n",
            "./../../libexec/iconv_euc_to_utf8.sh ./Noun.adverbal.csv \n",
            "./../../libexec/iconv_euc_to_utf8.sh ./Noun.org.csv \n",
            "./../../libexec/iconv_euc_to_utf8.sh ./Noun.place.csv \n",
            "./../../libexec/iconv_euc_to_utf8.sh ./Interjection.csv \n",
            "./../../libexec/iconv_euc_to_utf8.sh ./Others.csv \n",
            "./../../libexec/iconv_euc_to_utf8.sh ./Conjunction.csv \n",
            "./../../libexec/iconv_euc_to_utf8.sh ./Auxil.csv \n",
            "./../../libexec/iconv_euc_to_utf8.sh ./Verb.csv \n",
            "rm ./Postp.csv \n",
            "rm ./Noun.demonst.csv \n",
            "rm ./Suffix.csv \n",
            "rm ./Noun.proper.csv \n",
            "rm ./Noun.csv \n",
            "rm ./Postp-col.csv \n",
            "rm ./Adnominal.csv \n",
            "rm ./Noun.others.csv \n",
            "rm ./Noun.name.csv \n",
            "rm ./Noun.nai.csv \n",
            "rm ./Adverb.csv \n",
            "rm ./Noun.number.csv \n",
            "rm ./Adj.csv \n",
            "rm ./Prefix.csv \n",
            "rm ./Noun.adjv.csv \n",
            "rm ./Filler.csv \n",
            "rm ./Symbol.csv \n",
            "rm ./Noun.verbal.csv \n",
            "rm ./Noun.adverbal.csv \n",
            "rm ./Noun.org.csv \n",
            "rm ./Noun.place.csv \n",
            "rm ./Interjection.csv \n",
            "rm ./Others.csv \n",
            "rm ./Conjunction.csv \n",
            "rm ./Auxil.csv \n",
            "rm ./Verb.csv \n",
            "./../../libexec/iconv_euc_to_utf8.sh ./char.def \n",
            "./../../libexec/iconv_euc_to_utf8.sh ./matrix.def \n",
            "./../../libexec/iconv_euc_to_utf8.sh ./feature.def \n",
            "./../../libexec/iconv_euc_to_utf8.sh ./right-id.def \n",
            "./../../libexec/iconv_euc_to_utf8.sh ./left-id.def \n",
            "./../../libexec/iconv_euc_to_utf8.sh ./unk.def \n",
            "./../../libexec/iconv_euc_to_utf8.sh ./rewrite.def \n",
            "./../../libexec/iconv_euc_to_utf8.sh ./pos-id.def \n",
            "rm ./char.def \n",
            "rm ./matrix.def \n",
            "rm ./feature.def \n",
            "rm ./right-id.def \n",
            "rm ./left-id.def \n",
            "rm ./unk.def \n",
            "rm ./rewrite.def \n",
            "rm ./pos-id.def \n",
            "mv ./pos-id.def.utf8 ./pos-id.def \n",
            "mv ./unk.def.utf8 ./unk.def \n",
            "mv ./Symbol.csv.utf8 ./Symbol.csv \n",
            "mv ./Noun.proper.csv.utf8 ./Noun.proper.csv \n",
            "mv ./Noun.demonst.csv.utf8 ./Noun.demonst.csv \n",
            "mv ./Filler.csv.utf8 ./Filler.csv \n",
            "mv ./Prefix.csv.utf8 ./Prefix.csv \n",
            "mv ./Noun.name.csv.utf8 ./Noun.name.csv \n",
            "mv ./Verb.csv.utf8 ./Verb.csv \n",
            "mv ./Noun.place.csv.utf8 ./Noun.place.csv \n",
            "mv ./Noun.number.csv.utf8 ./Noun.number.csv \n",
            "mv ./feature.def.utf8 ./feature.def \n",
            "mv ./Postp-col.csv.utf8 ./Postp-col.csv \n",
            "mv ./Noun.org.csv.utf8 ./Noun.org.csv \n",
            "mv ./matrix.def.utf8 ./matrix.def \n",
            "mv ./Noun.nai.csv.utf8 ./Noun.nai.csv \n",
            "mv ./Adverb.csv.utf8 ./Adverb.csv \n",
            "mv ./Noun.others.csv.utf8 ./Noun.others.csv \n",
            "mv ./Conjunction.csv.utf8 ./Conjunction.csv \n",
            "mv ./Noun.csv.utf8 ./Noun.csv \n",
            "mv ./Interjection.csv.utf8 ./Interjection.csv \n",
            "mv ./Noun.adverbal.csv.utf8 ./Noun.adverbal.csv \n",
            "mv ./Adnominal.csv.utf8 ./Adnominal.csv \n",
            "mv ./Noun.adjv.csv.utf8 ./Noun.adjv.csv \n",
            "mv ./Others.csv.utf8 ./Others.csv \n",
            "mv ./Adj.csv.utf8 ./Adj.csv \n",
            "mv ./char.def.utf8 ./char.def \n",
            "mv ./Auxil.csv.utf8 ./Auxil.csv \n",
            "mv ./Postp.csv.utf8 ./Postp.csv \n",
            "mv ./Noun.verbal.csv.utf8 ./Noun.verbal.csv \n",
            "mv ./Suffix.csv.utf8 ./Suffix.csv \n",
            "mv ./right-id.def.utf8 ./right-id.def \n",
            "mv ./rewrite.def.utf8 ./rewrite.def \n",
            "mv ./left-id.def.utf8 ./left-id.def \n",
            "[make-mecab-ipadic-NEologd] : Fix yomigana field of IPA dictionary\n",
            "patching file Noun.csv\n",
            "patching file Noun.place.csv\n",
            "patching file Verb.csv\n",
            "patching file Noun.verbal.csv\n",
            "patching file Noun.name.csv\n",
            "patching file Noun.adverbal.csv\n",
            "patching file Noun.csv\n",
            "patching file Noun.name.csv\n",
            "patching file Noun.org.csv\n",
            "patching file Noun.others.csv\n",
            "patching file Noun.place.csv\n",
            "patching file Noun.proper.csv\n",
            "patching file Noun.verbal.csv\n",
            "patching file Prefix.csv\n",
            "patching file Suffix.csv\n",
            "patching file Noun.proper.csv\n",
            "patching file Noun.csv\n",
            "patching file Noun.name.csv\n",
            "patching file Noun.org.csv\n",
            "patching file Noun.place.csv\n",
            "patching file Noun.proper.csv\n",
            "patching file Noun.verbal.csv\n",
            "patching file Noun.name.csv\n",
            "patching file Noun.org.csv\n",
            "patching file Noun.place.csv\n",
            "patching file Noun.proper.csv\n",
            "patching file Suffix.csv\n",
            "patching file Noun.demonst.csv\n",
            "patching file Noun.csv\n",
            "patching file Noun.name.csv\n",
            "[make-mecab-ipadic-NEologd] : Copy user dictionary resource\n",
            "[make-mecab-ipadic-NEologd] : Install adverb entries using /content/mecab-ipadic-neologd/libexec/../seed/neologd-adverb-dict-seed.20150623.csv.xz\n",
            "[make-mecab-ipadic-NEologd] : Install interjection entries using /content/mecab-ipadic-neologd/libexec/../seed/neologd-interjection-dict-seed.20170216.csv.xz\n",
            "[make-mecab-ipadic-NEologd] : Install noun orthographic variant entries using /content/mecab-ipadic-neologd/libexec/../seed/neologd-common-noun-ortho-variant-dict-seed.20170228.csv.xz\n",
            "[make-mecab-ipadic-NEologd] : Install noun orthographic variant entries using /content/mecab-ipadic-neologd/libexec/../seed/neologd-proper-noun-ortho-variant-dict-seed.20161110.csv.xz\n",
            "[make-mecab-ipadic-NEologd] : Install entries of orthographic variant of a noun used as verb form using /content/mecab-ipadic-neologd/libexec/../seed/neologd-noun-sahen-conn-ortho-variant-dict-seed.20160323.csv.xz\n",
            "[make-mecab-ipadic-NEologd] : Install frequent adjective orthographic variant entries using /content/mecab-ipadic-neologd/libexec/../seed/neologd-adjective-std-dict-seed.20151126.csv.xz\n",
            "[make-mecab-ipadic-NEologd] : Install infrequent adjective orthographic variant entries using /content/mecab-ipadic-neologd/libexec/../seed/neologd-adjective-exp-dict-seed.20151126.csv.xz\n",
            "[make-mecab-ipadic-NEologd] : Install adjective verb orthographic variant entries using /content/mecab-ipadic-neologd/libexec/../seed/neologd-adjective-verb-dict-seed.20160324.csv.xz\n",
            "[make-mecab-ipadic-NEologd] : Install infrequent datetime representation entries using /content/mecab-ipadic-neologd/libexec/../seed/neologd-date-time-infreq-dict-seed.20190415.csv.xz\n",
            "[make-mecab-ipadic-NEologd] : Install infrequent quantity representation entries using /content/mecab-ipadic-neologd/libexec/../seed/neologd-quantity-infreq-dict-seed.20190415.csv.xz\n",
            "[make-mecab-ipadic-NEologd] : Install entries of ill formed words using /content/mecab-ipadic-neologd/libexec/../seed/neologd-ill-formed-words-dict-seed.20170127.csv.xz\n",
            "[make-mecab-ipadic-NEologd] : Re-Index system dictionary\n",
            "reading ./unk.def ... 40\n",
            "emitting double-array: 100% |###########################################| \n",
            "./model.def is not found. skipped.\n",
            "reading ./Postp.csv ... 146\n",
            "reading ./Noun.demonst.csv ... 120\n",
            "reading ./Suffix.csv ... 1448\n",
            "reading ./mecab-user-dict-seed.20200910.csv ... 3224584\n",
            "reading ./Noun.proper.csv ... 27493\n",
            "reading ./Noun.csv ... 60734\n",
            "reading ./Postp-col.csv ... 91\n",
            "reading ./Adnominal.csv ... 135\n",
            "reading ./Noun.others.csv ... 153\n",
            "reading ./neologd-interjection-dict-seed.20170216.csv ... 4701\n",
            "reading ./neologd-ill-formed-words-dict-seed.20170127.csv ... 60616\n",
            "reading ./Noun.name.csv ... 34215\n",
            "reading ./Noun.nai.csv ... 42\n",
            "reading ./neologd-common-noun-ortho-variant-dict-seed.20170228.csv ... 152869\n",
            "reading ./Adverb.csv ... 3032\n",
            "reading ./neologd-noun-sahen-conn-ortho-variant-dict-seed.20160323.csv ... 26058\n",
            "reading ./Noun.number.csv ... 42\n",
            "reading ./Adj.csv ... 27210\n",
            "reading ./Prefix.csv ... 224\n",
            "reading ./Noun.adjv.csv ... 3328\n",
            "reading ./Filler.csv ... 19\n",
            "reading ./neologd-adjective-verb-dict-seed.20160324.csv ... 20268\n",
            "reading ./Symbol.csv ... 208\n",
            "reading ./Noun.verbal.csv ... 12150\n",
            "reading ./Noun.adverbal.csv ... 808\n",
            "reading ./Noun.org.csv ... 17149\n",
            "reading ./neologd-adverb-dict-seed.20150623.csv ... 139792\n",
            "reading ./neologd-date-time-infreq-dict-seed.20190415.csv ... 16866\n",
            "reading ./Noun.place.csv ... 73194\n",
            "reading ./Interjection.csv ... 252\n",
            "reading ./neologd-adjective-exp-dict-seed.20151126.csv ... 1051146\n",
            "reading ./Others.csv ... 2\n",
            "reading ./Conjunction.csv ... 171\n",
            "reading ./Auxil.csv ... 199\n",
            "reading ./neologd-adjective-std-dict-seed.20151126.csv ... 507812\n",
            "reading ./neologd-proper-noun-ortho-variant-dict-seed.20161110.csv ... 138379\n",
            "reading ./Verb.csv ... 130750\n",
            "reading ./neologd-quantity-infreq-dict-seed.20190415.csv ... 229216\n",
            "emitting double-array: 100% |###########################################| \n",
            "reading ./matrix.def ... 1316x1316\n",
            "emitting matrix      : 100% |###########################################| \n",
            "\n",
            "done!\n",
            "[make-mecab-ipadic-NEologd] : Make custom system dictionary on /content/mecab-ipadic-neologd/libexec/../build/mecab-ipadic-2.7.0-20070801-neologd-20200910\n",
            "make: Nothing to be done for 'all'.\n",
            "[make-mecab-ipadic-NEologd] : Finish..\n",
            "[install-mecab-ipadic-NEologd] : Get results of tokenize test\n",
            "[test-mecab-ipadic-NEologd] : Start..\n",
            "[test-mecab-ipadic-NEologd] : Replace timestamp from 'git clone' date to 'git commit' date\n",
            "[test-mecab-ipadic-NEologd] : Get buzz phrases\n",
            "  % Total    % Received % Xferd  Average Speed   Time    Time     Time  Current\n",
            "                                 Dload  Upload   Total   Spent    Left  Speed\n",
            "100 31305    0 31305    0     0  21010      0 --:--:--  0:00:01 --:--:-- 20995\n",
            "[test-mecab-ipadic-NEologd] : Get difference between default system dictionary and mecab-ipadic-NEologd\n",
            "[test-mecab-ipadic-NEologd] : Something wrong. You shouldn't install mecab-ipadic-NEologd yet.\n",
            "[test-mecab-ipadic-NEologd] : Finish..\n",
            "\n",
            "[install-mecab-ipadic-NEologd] : Please check the list of differences in the upper part.\n",
            "\n",
            "[install-mecab-ipadic-NEologd] : Do you want to install mecab-ipadic-NEologd? Type yes or no.\n",
            "[install-mecab-ipadic-NEologd] : OK. Let's install mecab-ipadic-NEologd.\n",
            "[install-mecab-ipadic-NEologd] : Start..\n",
            "[install-mecab-ipadic-NEologd] : /usr/lib/x86_64-linux-gnu/mecab/dic isn't current user's directory\n",
            "[install-mecab-ipadic-NEologd] : Sudo make install to /usr/lib/x86_64-linux-gnu/mecab/dic/mecab-ipadic-neologd\n",
            "make[1]: Entering directory '/content/mecab-ipadic-neologd/build/mecab-ipadic-2.7.0-20070801-neologd-20200910'\n",
            "make[1]: Nothing to be done for 'install-exec-am'.\n",
            "/bin/bash ./mkinstalldirs /usr/lib/x86_64-linux-gnu/mecab/dic/mecab-ipadic-neologd\n",
            "mkdir /usr/lib/x86_64-linux-gnu/mecab\n",
            "mkdir /usr/lib/x86_64-linux-gnu/mecab/dic\n",
            "mkdir /usr/lib/x86_64-linux-gnu/mecab/dic/mecab-ipadic-neologd\n",
            " /usr/bin/install -c -m 644 ./matrix.bin /usr/lib/x86_64-linux-gnu/mecab/dic/mecab-ipadic-neologd/matrix.bin\n",
            " /usr/bin/install -c -m 644 ./char.bin /usr/lib/x86_64-linux-gnu/mecab/dic/mecab-ipadic-neologd/char.bin\n",
            " /usr/bin/install -c -m 644 ./sys.dic /usr/lib/x86_64-linux-gnu/mecab/dic/mecab-ipadic-neologd/sys.dic\n",
            " /usr/bin/install -c -m 644 ./unk.dic /usr/lib/x86_64-linux-gnu/mecab/dic/mecab-ipadic-neologd/unk.dic\n",
            " /usr/bin/install -c -m 644 ./left-id.def /usr/lib/x86_64-linux-gnu/mecab/dic/mecab-ipadic-neologd/left-id.def\n",
            " /usr/bin/install -c -m 644 ./right-id.def /usr/lib/x86_64-linux-gnu/mecab/dic/mecab-ipadic-neologd/right-id.def\n",
            " /usr/bin/install -c -m 644 ./rewrite.def /usr/lib/x86_64-linux-gnu/mecab/dic/mecab-ipadic-neologd/rewrite.def\n",
            " /usr/bin/install -c -m 644 ./pos-id.def /usr/lib/x86_64-linux-gnu/mecab/dic/mecab-ipadic-neologd/pos-id.def\n",
            " /usr/bin/install -c -m 644 ./dicrc /usr/lib/x86_64-linux-gnu/mecab/dic/mecab-ipadic-neologd/dicrc\n",
            "make[1]: Leaving directory '/content/mecab-ipadic-neologd/build/mecab-ipadic-2.7.0-20070801-neologd-20200910'\n",
            "\n",
            "[install-mecab-ipadic-NEologd] : Install completed.\n",
            "[install-mecab-ipadic-NEologd] : When you use MeCab, you can set '/usr/lib/x86_64-linux-gnu/mecab/dic/mecab-ipadic-neologd' as a value of '-d' option of MeCab.\n",
            "[install-mecab-ipadic-NEologd] : Usage of mecab-ipadic-NEologd is here.\n",
            "Usage:\n",
            "    $ mecab -d /usr/lib/x86_64-linux-gnu/mecab/dic/mecab-ipadic-neologd ...\n",
            "\n",
            "[install-mecab-ipadic-NEologd] : Finish..\n",
            "[install-mecab-ipadic-NEologd] : Finish..\n",
            "Collecting emoji\n",
            "  Downloading emoji-1.6.3.tar.gz (174 kB)\n",
            "\u001b[K     |████████████████████████████████| 174 kB 13.3 MB/s \n",
            "\u001b[?25hBuilding wheels for collected packages: emoji\n",
            "  Building wheel for emoji (setup.py) ... \u001b[?25l\u001b[?25hdone\n",
            "  Created wheel for emoji: filename=emoji-1.6.3-py3-none-any.whl size=170298 sha256=bb38d6c988b822330149ac4f3b02d2fabd5c21f71ae652171b742be9a5c59890\n",
            "  Stored in directory: /root/.cache/pip/wheels/03/8b/d7/ad579fbef83c287215c0caab60fb0ae0f30c4d7ce5f580eade\n",
            "Successfully built emoji\n",
            "Installing collected packages: emoji\n",
            "Successfully installed emoji-1.6.3\n",
            "Collecting japanize-matplotlib\n",
            "  Downloading japanize-matplotlib-1.1.3.tar.gz (4.1 MB)\n",
            "\u001b[K     |████████████████████████████████| 4.1 MB 12.6 MB/s \n",
            "\u001b[?25hRequirement already satisfied: matplotlib in /usr/local/lib/python3.7/dist-packages (from japanize-matplotlib) (3.2.2)\n",
            "Requirement already satisfied: python-dateutil>=2.1 in /usr/local/lib/python3.7/dist-packages (from matplotlib->japanize-matplotlib) (2.8.2)\n",
            "Requirement already satisfied: numpy>=1.11 in /usr/local/lib/python3.7/dist-packages (from matplotlib->japanize-matplotlib) (1.19.5)\n",
            "Requirement already satisfied: cycler>=0.10 in /usr/local/lib/python3.7/dist-packages (from matplotlib->japanize-matplotlib) (0.11.0)\n",
            "Requirement already satisfied: kiwisolver>=1.0.1 in /usr/local/lib/python3.7/dist-packages (from matplotlib->japanize-matplotlib) (1.3.2)\n",
            "Requirement already satisfied: pyparsing!=2.0.4,!=2.1.2,!=2.1.6,>=2.0.1 in /usr/local/lib/python3.7/dist-packages (from matplotlib->japanize-matplotlib) (3.0.6)\n",
            "Requirement already satisfied: six>=1.5 in /usr/local/lib/python3.7/dist-packages (from python-dateutil>=2.1->matplotlib->japanize-matplotlib) (1.15.0)\n",
            "Building wheels for collected packages: japanize-matplotlib\n",
            "  Building wheel for japanize-matplotlib (setup.py) ... \u001b[?25l\u001b[?25hdone\n",
            "  Created wheel for japanize-matplotlib: filename=japanize_matplotlib-1.1.3-py3-none-any.whl size=4120275 sha256=55a6fb4218905d4cf7c2d6baf00c96661b61f7f99dbc33d568070dedbcd77071\n",
            "  Stored in directory: /root/.cache/pip/wheels/83/97/6b/e9e0cde099cc40f972b8dd23367308f7705ae06cd6d4714658\n",
            "Successfully built japanize-matplotlib\n",
            "Installing collected packages: japanize-matplotlib\n",
            "Successfully installed japanize-matplotlib-1.1.3\n",
            "Collecting gensim==3.4.0\n",
            "  Downloading gensim-3.4.0.tar.gz (22.2 MB)\n",
            "\u001b[K     |████████████████████████████████| 22.2 MB 1.3 MB/s \n",
            "\u001b[?25hRequirement already satisfied: numpy>=1.11.3 in /usr/local/lib/python3.7/dist-packages (from gensim==3.4.0) (1.19.5)\n",
            "Requirement already satisfied: scipy>=0.18.1 in /usr/local/lib/python3.7/dist-packages (from gensim==3.4.0) (1.4.1)\n",
            "Requirement already satisfied: six>=1.5.0 in /usr/local/lib/python3.7/dist-packages (from gensim==3.4.0) (1.15.0)\n",
            "Requirement already satisfied: smart_open>=1.2.1 in /usr/local/lib/python3.7/dist-packages (from gensim==3.4.0) (5.2.1)\n",
            "Building wheels for collected packages: gensim\n",
            "  Building wheel for gensim (setup.py) ... \u001b[?25l\u001b[?25hdone\n",
            "  Created wheel for gensim: filename=gensim-3.4.0-cp37-cp37m-linux_x86_64.whl size=23316694 sha256=6fa8660c4a79eaffd21ee2385dd8ce358dceb6d2db3c4c8d01d4782eae6ffad5\n",
            "  Stored in directory: /root/.cache/pip/wheels/de/a4/46/4e18f7d25915b16e0e790a5362e455aba6cadc486994806c05\n",
            "Successfully built gensim\n",
            "Installing collected packages: gensim\n",
            "  Attempting uninstall: gensim\n",
            "    Found existing installation: gensim 3.6.0\n",
            "    Uninstalling gensim-3.6.0:\n",
            "      Successfully uninstalled gensim-3.6.0\n",
            "Successfully installed gensim-3.4.0\n",
            "Collecting smart_open==1.9.0\n",
            "  Downloading smart_open-1.9.0.tar.gz (70 kB)\n",
            "\u001b[K     |████████████████████████████████| 70 kB 5.4 MB/s \n",
            "\u001b[?25hCollecting boto>=2.32\n",
            "  Downloading boto-2.49.0-py2.py3-none-any.whl (1.4 MB)\n",
            "\u001b[K     |████████████████████████████████| 1.4 MB 29.6 MB/s \n",
            "\u001b[?25hRequirement already satisfied: requests in /usr/local/lib/python3.7/dist-packages (from smart_open==1.9.0) (2.23.0)\n",
            "Collecting boto3\n",
            "  Downloading boto3-1.20.37-py3-none-any.whl (131 kB)\n",
            "\u001b[K     |████████████████████████████████| 131 kB 72.0 MB/s \n",
            "\u001b[?25hCollecting s3transfer<0.6.0,>=0.5.0\n",
            "  Downloading s3transfer-0.5.0-py3-none-any.whl (79 kB)\n",
            "\u001b[K     |████████████████████████████████| 79 kB 6.5 MB/s \n",
            "\u001b[?25hCollecting botocore<1.24.0,>=1.23.37\n",
            "  Downloading botocore-1.23.37-py3-none-any.whl (8.5 MB)\n",
            "\u001b[K     |████████████████████████████████| 8.5 MB 54.7 MB/s \n",
            "\u001b[?25hCollecting jmespath<1.0.0,>=0.7.1\n",
            "  Downloading jmespath-0.10.0-py2.py3-none-any.whl (24 kB)\n",
            "Requirement already satisfied: python-dateutil<3.0.0,>=2.1 in /usr/local/lib/python3.7/dist-packages (from botocore<1.24.0,>=1.23.37->boto3->smart_open==1.9.0) (2.8.2)\n",
            "Collecting urllib3<1.27,>=1.25.4\n",
            "  Downloading urllib3-1.26.8-py2.py3-none-any.whl (138 kB)\n",
            "\u001b[K     |████████████████████████████████| 138 kB 90.5 MB/s \n",
            "\u001b[?25hRequirement already satisfied: six>=1.5 in /usr/local/lib/python3.7/dist-packages (from python-dateutil<3.0.0,>=2.1->botocore<1.24.0,>=1.23.37->boto3->smart_open==1.9.0) (1.15.0)\n",
            "Requirement already satisfied: chardet<4,>=3.0.2 in /usr/local/lib/python3.7/dist-packages (from requests->smart_open==1.9.0) (3.0.4)\n",
            "  Downloading urllib3-1.25.11-py2.py3-none-any.whl (127 kB)\n",
            "\u001b[K     |████████████████████████████████| 127 kB 95.0 MB/s \n",
            "\u001b[?25hRequirement already satisfied: idna<3,>=2.5 in /usr/local/lib/python3.7/dist-packages (from requests->smart_open==1.9.0) (2.10)\n",
            "Requirement already satisfied: certifi>=2017.4.17 in /usr/local/lib/python3.7/dist-packages (from requests->smart_open==1.9.0) (2021.10.8)\n",
            "Building wheels for collected packages: smart-open\n",
            "  Building wheel for smart-open (setup.py) ... \u001b[?25l\u001b[?25hdone\n",
            "  Created wheel for smart-open: filename=smart_open-1.9.0-py3-none-any.whl size=73096 sha256=922b905d35491602aef3c87254d722d39b51c8b70dbb74626be64f4271f765e9\n",
            "  Stored in directory: /root/.cache/pip/wheels/1f/f6/d9/49cfa288fb14de91f127fb6f7a5a29f389c9588a41140107d9\n",
            "Successfully built smart-open\n",
            "Installing collected packages: urllib3, jmespath, botocore, s3transfer, boto3, boto, smart-open\n",
            "  Attempting uninstall: urllib3\n",
            "    Found existing installation: urllib3 1.24.3\n",
            "    Uninstalling urllib3-1.24.3:\n",
            "      Successfully uninstalled urllib3-1.24.3\n",
            "  Attempting uninstall: smart-open\n",
            "    Found existing installation: smart-open 5.2.1\n",
            "    Uninstalling smart-open-5.2.1:\n",
            "      Successfully uninstalled smart-open-5.2.1\n",
            "\u001b[31mERROR: pip's dependency resolver does not currently take into account all the packages that are installed. This behaviour is the source of the following dependency conflicts.\n",
            "datascience 0.10.6 requires folium==0.2.1, but you have folium 0.8.3 which is incompatible.\u001b[0m\n",
            "Successfully installed boto-2.49.0 boto3-1.20.37 botocore-1.23.37 jmespath-0.10.0 s3transfer-0.5.0 smart-open-1.9.0 urllib3-1.25.11\n"
          ]
        }
      ],
      "source": [
        "!pip install pymlask\n",
        "!pip install janome\n",
        "#MeCabインストール\n",
        "!apt install aptitude swig\n",
        "!aptitude install mecab libmecab-dev mecab-ipadic-utf8 git make curl xz-utils file -y\n",
        "!pip install mecab-python3==0.996.3\n",
        "!git clone --depth 1 https://github.com/neologd/mecab-ipadic-neologd.git\n",
        "!echo yes | mecab-ipadic-neologd/bin/install-mecab-ipadic-neologd -n -a\n",
        "!pip install emoji\n",
        "!pip install japanize-matplotlib\n",
        "!pip install gensim==3.4.0\n",
        "!pip install smart_open==1.9.0\n",
        "!pip install WordCroud\n",
        "!apt-get -y install fonts-ipafont-gothic"
      ]
    },
    {
      "cell_type": "code",
      "execution_count": null,
      "metadata": {
        "colab": {
          "base_uri": "https://localhost:8080/"
        },
        "id": "uo-ZDRE3YqbZ",
        "outputId": "083b0c6c-b16e-46f2-a3da-af29d25c4a61"
      },
      "outputs": [
        {
          "output_type": "stream",
          "name": "stdout",
          "text": [
            "Mounted at /content/drive\n"
          ]
        }
      ],
      "source": [
        "from google.colab import drive\n",
        "drive.mount('/content/drive')"
      ]
    },
    {
      "cell_type": "code",
      "execution_count": null,
      "metadata": {
        "id": "eapZldDbY0Sw"
      },
      "outputs": [],
      "source": [
        "import pandas as pd\n",
        "import numpy as np\n",
        "import smart_open\n",
        "import gensim\n",
        "from gensim.models import word2vec\n",
        "import glob\n",
        "import pickle\n",
        "import emoji\n",
        "import csv\n",
        "import re\n",
        "from mlask import MLAsk\n",
        "import requests\n",
        "from bs4 import BeautifulSoup\n",
        "import matplotlib.pyplot as plt\n",
        "import seaborn as sns\n",
        "import math\n",
        "from wordcloud import WordCloud\n",
        "\n",
        "emotion_analyzer = MLAsk()\n",
        "\n",
        "import MeCab\n",
        "tagger=MeCab.Tagger('-Owakati')\n",
        "\n",
        "from janome.tokenizer import Tokenizer\n",
        "import time\n",
        "# Tokenizerインスタンスの生成 \n",
        "t = Tokenizer()"
      ]
    },
    {
      "cell_type": "code",
      "execution_count": null,
      "metadata": {
        "colab": {
          "base_uri": "https://localhost:8080/"
        },
        "id": "kYIbrClzaFL5",
        "outputId": "5b54c53f-d6c0-4bf0-d2e3-0eb846e01f88"
      },
      "outputs": [
        {
          "output_type": "execute_result",
          "data": {
            "text/plain": [
              "362651"
            ]
          },
          "metadata": {},
          "execution_count": 4
        }
      ],
      "source": [
        "csv_files = glob.glob('/content/drive/My Drive/Tweet/tweet/auto_test/*.csv') #jpサンプルツイートフォルダ内結合\n",
        "data_list = []\n",
        "for file in csv_files:\n",
        "  data_list.append(pd.read_csv(file, lineterminator='\\n'))  \n",
        "df = pd.concat(data_list, axis=0, sort=False)\n",
        "df = df.drop_duplicates(keep='last') #重複の削除、列の最後の方が時刻が遅いため、lastで指定\n",
        "df=df.reset_index(drop=True)\n",
        "\n",
        "elim=[]\n",
        "for i in range(len(df)):\n",
        "  if str(df.iloc[i]['text']).startswith('RT') is True:\n",
        "    elim.append(i)\n",
        "\n",
        "#RT除去\n",
        "df1=df.drop(elim)\n",
        "df1=df1.reset_index(drop=True)\n",
        "len(df)"
      ]
    },
    {
      "cell_type": "code",
      "execution_count": null,
      "metadata": {
        "colab": {
          "base_uri": "https://localhost:8080/"
        },
        "id": "eu5dvboCaNaa",
        "outputId": "692c7173-7b15-4aad-ed76-d997e504bd8d"
      },
      "outputs": [
        {
          "output_type": "execute_result",
          "data": {
            "text/plain": [
              "37236"
            ]
          },
          "metadata": {},
          "execution_count": 5
        }
      ],
      "source": [
        "elim_http=[]\n",
        "for j in range(len(df1)):\n",
        "  user_text=df1.iloc[j]['text']\n",
        "  word_list=list(tagger.parse(user_text).split())\n",
        "  if 'https' in word_list:\n",
        "    elim_http.append(j)\n",
        "  elif 'http' in word_list:\n",
        "    elim_http.append(j)\n",
        "  elif '@' in word_list:\n",
        "    elim_http.append(j)\n",
        "\n",
        "#http除去\n",
        "df2=df1.drop(elim_http)\n",
        "df2=df2.reset_index(drop=True)\n",
        "len(df2) "
      ]
    },
    {
      "cell_type": "code",
      "execution_count": null,
      "metadata": {
        "colab": {
          "base_uri": "https://localhost:8080/"
        },
        "id": "WcClz7gJaR2p",
        "outputId": "c6f9905f-baba-4393-a4d0-8b1f5d0387e3"
      },
      "outputs": [
        {
          "data": {
            "text/plain": [
              "37236"
            ]
          },
          "execution_count": 7,
          "metadata": {},
          "output_type": "execute_result"
        }
      ],
      "source": [
        "emotion_list = []\n",
        "orientation_list = []\n",
        "\n",
        "for k in range(len(df2)):\n",
        "  text = df2.iloc[k]['text']\n",
        "  result = emotion_analyzer.analyze(text)\n",
        "  try:\n",
        "    orientation = result['orientation']\n",
        "    kanjo = result['representative']\n",
        "    emotion_list.append(kanjo)\n",
        "    orientation_list.append(orientation)\n",
        "  except KeyError:\n",
        "    kanjo = 'NA'\n",
        "    orientation = 'NA'\n",
        "    emotion_list.append(kanjo)\n",
        "    orientation_list.append(orientation)\n",
        "len(emotion_list)"
      ]
    },
    {
      "cell_type": "code",
      "execution_count": null,
      "metadata": {
        "id": "_Lucl61005v8"
      },
      "outputs": [],
      "source": [
        "df2[\"orientation\"] = orientation_list\n",
        "df2[\"emotion\"] = emotion_list"
      ]
    },
    {
      "cell_type": "code",
      "execution_count": null,
      "metadata": {
        "colab": {
          "base_uri": "https://localhost:8080/",
          "height": 281
        },
        "id": "xI7QxZjL5BmL",
        "outputId": "c35a825a-65e0-48f1-9d6f-80928d8d0c8c"
      },
      "outputs": [
        {
          "data": {
            "image/png": "[encoded data removed]",
            "text/plain": [
              "<Figure size 576x288 with 1 Axes>"
            ]
          },
          "metadata": {},
          "output_type": "display_data"
        }
      ],
      "source": [
        "orientation_negative = (df2['orientation'] == 'NEGATIVE')\n",
        "orientation_positive = (df2['orientation'] == 'POSITIVE')\n",
        "orientation_neutral = (df2['orientation'] == 'NEUTRAL')\n",
        "orientation_mone = (df2['orientation'] == 'mostly_NEGATIVE')\n",
        "orientation_mopo = (df2['orientation'] == 'mostly_POSITIVE')\n",
        "orientation_na = (df2['orientation'] == 'NA')\n",
        "#RTやhttpを除くツイートの感情(positive vs. negative)の図示\n",
        "objects_orientation = ('Negative', 'Mostly Negative', 'Neutral' ,'Mostly Positive', 'Positive', 'NA')\n",
        "y_pos = np.arange(len(objects_orientation))\n",
        "performance = [orientation_negative.sum(), orientation_mone.sum(), orientation_neutral.sum(), orientation_mopo.sum(), orientation_positive.sum(), orientation_na.sum()]\n",
        "plt.figure(figsize=(8,4))\n",
        "plt.bar(y_pos, performance, align='center', alpha=0.5, width=0.6)\n",
        "plt.xticks(y_pos, objects_orientation)\n",
        "plt.ylabel('Number of tweets')\n",
        "plt.title('Tweet Emotion Orientation')\n",
        "\n",
        "plt.show()"
      ]
    },
    {
      "cell_type": "code",
      "execution_count": null,
      "metadata": {
        "id": "8iRy_5_A7r5X"
      },
      "outputs": [],
      "source": [
        "#Russelの感情円環に基づいて10感情が分類される\n",
        "#喜, 怒, 哀, 怖, 恥, 好, 厭, 昂, 安, 驚\n",
        "objects_emotion = ('joy', 'anger', 'sorrow', 'fear', 'shame', 'liking', 'dislike', 'excitement', 'relief', 'surprise', 'NA')\n",
        "df3 = df2['emotion']\n",
        "df4 = []\n",
        "for i in range(len(df3)):\n",
        "  row = str(df3[i])\n",
        "  df4.append(row)"
      ]
    },
    {
      "cell_type": "code",
      "execution_count": null,
      "metadata": {
        "colab": {
          "base_uri": "https://localhost:8080/",
          "height": 281
        },
        "id": "1y-hYj7rgCiP",
        "outputId": "c2128b4b-8059-45a8-d479-f739fe42dff1"
      },
      "outputs": [
        {
          "data": {
            "image/png": "[encoded data removed]",
            "text/plain": [
              "<Figure size 864x288 with 1 Axes>"
            ]
          },
          "metadata": {},
          "output_type": "display_data"
        }
      ],
      "source": [
        "emotion_yorokobi = [s for s in df4 if 'yorokobi' in s]\n",
        "emotion_ikari = [s for s in df4 if 'ikari' in s]\n",
        "emotion_aware = [s for s in df4 if 'aware' in s]\n",
        "emotion_kowagari = [s for s in df4 if 'kowa' in s]\n",
        "emotion_haji = [s for s in df4 if 'haji' in s]\n",
        "emotion_suki = [s for s in df4 if 'suki' in s]\n",
        "emotion_iya = [s for s in df4 if 'iya' in s]\n",
        "emotion_takaburi = [s for s in df4 if 'takaburi' in s]\n",
        "emotion_yasuragi = [s for s in df4 if 'yasu' in s]\n",
        "emotion_odoroki = [s for s in df4 if 'odoroki' in s]\n",
        "emotion_na = [s for s in df4 if 'NA' in s]\n",
        "\n",
        "y_pos = np.arange(len(objects_emotion))\n",
        "performance = [len(emotion_yorokobi), len(emotion_ikari), len(emotion_aware), len(emotion_kowagari), len(emotion_haji), len(emotion_suki), len(emotion_iya), len(emotion_takaburi), len(emotion_yasuragi), len(emotion_odoroki), len(emotion_na)]\n",
        "plt.figure(figsize=(12,4))\n",
        "plt.bar(y_pos, performance, align='center', alpha=0.5, width=0.6)\n",
        "plt.xticks(y_pos, objects_emotion)\n",
        "plt.ylabel('Number of tweets')\n",
        "plt.title('Tweet Emotion')\n",
        "\n",
        "plt.show()"
      ]
    },
    {
      "cell_type": "markdown",
      "metadata": {
        "id": "tjdVtZgaCWdJ"
      },
      "source": [
        "感情とRT数の分析。cytoscapeで抽出したRT数（degree.layout）と感情の関係を調べる"
      ]
    },
    {
      "cell_type": "code",
      "execution_count": null,
      "metadata": {
        "id": "NeEOICQlrkK_"
      },
      "outputs": [],
      "source": [
        "#感情とRT数\n",
        "#ネットワークdegree.laをすることにより、リンクの数がわかる。このリンクの数と感情の関係を示す（今後はfollowerも必要）\n",
        "df99 = pd.read_csv(\"/content/drive/My Drive/Tweet/RT_Emotion/220110_vactine_propagation_RT_dgt2.gml default node.csv\")"
      ]
    },
    {
      "cell_type": "code",
      "execution_count": null,
      "metadata": {
        "id": "L9RwszFhWvbb"
      },
      "outputs": [],
      "source": [
        "df99 = df99.fillna(0)"
      ]
    },
    {
      "cell_type": "code",
      "execution_count": null,
      "metadata": {
        "colab": {
          "base_uri": "https://localhost:8080/"
        },
        "id": "XSDk338eATfi",
        "outputId": "60d65f87-d10c-408e-d824-2867e056b4b8"
      },
      "outputs": [
        {
          "data": {
            "text/plain": [
              "938"
            ]
          },
          "execution_count": 14,
          "metadata": {},
          "output_type": "execute_result"
        }
      ],
      "source": [
        "#リンク数が少ないものを除去する（多くの人に共有されるツイートはどういうツイートが多いのか？）\n",
        "elim99=[]\n",
        "for i in range(len(df99)):\n",
        "  if df99[\"degree.layout\"][i] < 30.0: #50以上のRTがあるオリジナルツイートのみを摘出\n",
        "    elim99.append(i)\n",
        "\n",
        "df100=df99.drop(elim99)\n",
        "df100=df100.reset_index(drop=True)\n",
        "len(df100)"
      ]
    },
    {
      "cell_type": "code",
      "execution_count": null,
      "metadata": {
        "id": "PU-VJXTdBH2k"
      },
      "outputs": [],
      "source": [
        "emo_rt = []\n",
        "for j in range(len(df100)):\n",
        "  for k in range(len(df2)):\n",
        "    if df100[\"name\"][j] == df2[\"user_name\"][k]:\n",
        "      emo = str(df2[\"emotion\"][k])\n",
        "      newline = [df100[\"degree.layout\"][j], df2[\"orientation\"][k], emo, df100[\"cluster\"][j], df2[\"follower\"][k]]\n",
        "      emo_rt.append(newline)"
      ]
    },
    {
      "cell_type": "code",
      "execution_count": null,
      "metadata": {
        "id": "GbyKBOr3D-xf"
      },
      "outputs": [],
      "source": [
        "emo_rt = pd.DataFrame(emo_rt, columns=[\"degree.layout\", \"orientation\", \"emotion\", \"cluster\", \"follower\"])"
      ]
    },
    {
      "cell_type": "code",
      "execution_count": null,
      "metadata": {
        "colab": {
          "base_uri": "https://localhost:8080/",
          "height": 281
        },
        "id": "fEIg2x4KTVwQ",
        "outputId": "1c3bd6ff-26eb-4cd4-9e20-a0b3daa87b9b"
      },
      "outputs": [
        {
          "data": {
            "image/png": "[encoded data removed]",
            "text/plain": [
              "<Figure size 864x288 with 1 Axes>"
            ]
          },
          "metadata": {},
          "output_type": "display_data"
        }
      ],
      "source": [
        "emotion_yorokobi_gt50 = [s for s in emo_rt[\"emotion\"] if 'yorokobi' in s]\n",
        "emotion_ikari_gt50 = [s for s in emo_rt[\"emotion\"] if 'ikari' in s]\n",
        "emotion_aware_gt50 = [s for s in emo_rt[\"emotion\"] if 'aware' in s]\n",
        "emotion_kowagari_gt50 = [s for s in emo_rt[\"emotion\"] if 'kowa' in s]\n",
        "emotion_haji_gt50 = [s for s in emo_rt[\"emotion\"] if 'haji' in s]\n",
        "emotion_suki_gt50 = [s for s in emo_rt[\"emotion\"] if 'suki' in s]\n",
        "emotion_iya_gt50 = [s for s in emo_rt[\"emotion\"] if 'iya' in s]\n",
        "emotion_takaburi_gt50 = [s for s in emo_rt[\"emotion\"] if 'takaburi' in s]\n",
        "emotion_yasuragi_gt50 = [s for s in emo_rt[\"emotion\"] if 'yasu' in s]\n",
        "emotion_odoroki_gt50 = [s for s in emo_rt[\"emotion\"] if 'odoroki' in s]\n",
        "emotion_na_gt50 = [s for s in emo_rt[\"emotion\"] if 'NA' in s]\n",
        "\n",
        "y_pos = np.arange(len(objects_emotion))\n",
        "performance_emo_gt50 = [len(emotion_yorokobi_gt50), len(emotion_ikari_gt50), len(emotion_aware_gt50), len(emotion_kowagari_gt50), len(emotion_haji_gt50), len(emotion_suki_gt50), len(emotion_iya_gt50), len(emotion_takaburi_gt50), len(emotion_yasuragi_gt50), len(emotion_odoroki_gt50), len(emotion_na_gt50)]\n",
        "plt.figure(figsize=(12,4))\n",
        "plt.bar(y_pos, performance_emo_gt50, align='center', alpha=0.5, width=0.6)\n",
        "plt.xticks(y_pos, objects_emotion)\n",
        "plt.ylabel('Number of tweets')\n",
        "plt.title('Emotion of Original Tweet *greater than 30')\n",
        "\n",
        "plt.show()"
      ]
    },
    {
      "cell_type": "code",
      "execution_count": null,
      "metadata": {
        "colab": {
          "base_uri": "https://localhost:8080/",
          "height": 281
        },
        "id": "_Dqhh7GYt8b0",
        "outputId": "89a258a7-03f0-49ba-d890-14dba77c4fb1"
      },
      "outputs": [
        {
          "data": {
            "image/png": "[encoded data removed]",
            "text/plain": [
              "<Figure size 576x288 with 1 Axes>"
            ]
          },
          "metadata": {},
          "output_type": "display_data"
        }
      ],
      "source": [
        "orientation_negative_gt50 = (emo_rt[\"orientation\"] == 'NEGATIVE')\n",
        "orientation_positive_gt50 = (emo_rt[\"orientation\"] == 'POSITIVE')\n",
        "orientation_neutral_gt50 = (emo_rt[\"orientation\"] == 'NEUTRAL')\n",
        "orientation_mone_gt50 = (emo_rt[\"orientation\"] == 'mostly_NEGATIVE')\n",
        "orientation_mopo_gt50 = (emo_rt[\"orientation\"] == 'mostly_POSITIVE')\n",
        "orientation_na_gt50 = (emo_rt[\"orientation\"] == 'NA')\n",
        "objects_orientation = ('Negative', 'Mostly Negative', 'Neutral' ,'Mostly Positive', 'Positive', 'NA')\n",
        "y_pos = np.arange(len(objects_orientation))\n",
        "performance_ori_gt50 = [orientation_negative_gt50.sum(), orientation_mone_gt50.sum(), orientation_neutral_gt50.sum(), orientation_mopo_gt50.sum(), orientation_positive_gt50.sum(), orientation_na_gt50.sum()]\n",
        "plt.figure(figsize=(8,4))\n",
        "plt.bar(y_pos, performance_ori_gt50, align='center', alpha=0.5, width=0.6)\n",
        "plt.xticks(y_pos, objects_orientation)\n",
        "plt.ylabel('Number of tweets')\n",
        "plt.title('Tweet Emotion Orientation greater than 30')\n",
        "\n",
        "plt.show()"
      ]
    },
    {
      "cell_type": "code",
      "execution_count": null,
      "metadata": {
        "colab": {
          "base_uri": "https://localhost:8080/",
          "height": 316
        },
        "id": "FObUgGa7ACnn",
        "outputId": "d7836da3-cf69-4d28-ded6-72340b477b67"
      },
      "outputs": [
        {
          "data": {
            "text/plain": [
              "Text(0.5, 1.0, 'ReTweet Number and followers *greater than 30')"
            ]
          },
          "execution_count": 20,
          "metadata": {},
          "output_type": "execute_result"
        },
        {
          "data": {
            "image/png": "[encoded data removed]",
            "text/plain": [
              "<Figure size 432x288 with 1 Axes>"
            ]
          },
          "metadata": {},
          "output_type": "display_data"
        }
      ],
      "source": [
        "sns.scatterplot(x=\"follower\", y=\"degree.layout\", data=emo_rt, ci=95, hue=\"cluster\")\n",
        "plt.xscale('log')\n",
        "plt.yscale('log')\n",
        "#plt.xlabel('followers')\n",
        "#plt.ylabel('Number of Retweets')\n",
        "plt.title('ReTweet Number and followers *greater than 30')"
      ]
    },
    {
      "cell_type": "code",
      "execution_count": null,
      "metadata": {
        "colab": {
          "base_uri": "https://localhost:8080/",
          "height": 316
        },
        "id": "Gv8TCCHgI4Vd",
        "outputId": "c45372df-0bf5-491a-a6de-7a27a770d8c8"
      },
      "outputs": [
        {
          "data": {
            "text/plain": [
              "Text(0.5, 1.0, 'ReTweet Number and followers *greater than 30')"
            ]
          },
          "execution_count": 21,
          "metadata": {},
          "output_type": "execute_result"
        },
        {
          "data": {
            "image/png": "[encoded data removed]",
            "text/plain": [
              "<Figure size 432x288 with 1 Axes>"
            ]
          },
          "metadata": {},
          "output_type": "display_data"
        }
      ],
      "source": [
        "sns.regplot(x=\"follower\", y=\"degree.layout\", data=emo_rt, ci=95, fit_reg=True)\n",
        "plt.xscale('log')\n",
        "plt.yscale('log')\n",
        "plt.title('ReTweet Number and followers *greater than 30')"
      ]
    },
    {
      "cell_type": "code",
      "execution_count": null,
      "metadata": {
        "colab": {
          "base_uri": "https://localhost:8080/"
        },
        "id": "4vVlXvWGM_ir",
        "outputId": "febedf78-c4ea-4f11-c079-94b16f0bfad5"
      },
      "outputs": [
        {
          "name": "stdout",
          "output_type": "stream",
          "text": [
            "[[1.         0.36694923]\n",
            " [0.36694923 1.        ]]\n"
          ]
        }
      ],
      "source": [
        "x = emo_rt[\"follower\"]\n",
        "y = emo_rt[\"degree.layout\"]\n",
        "coef1 = np.corrcoef(x, y)\n",
        "#coef2 = np.corrcoef(math.log10(x), math.log10(y))\n",
        "print(coef1)"
      ]
    },
    {
      "cell_type": "code",
      "execution_count": null,
      "metadata": {
        "colab": {
          "base_uri": "https://localhost:8080/",
          "height": 298
        },
        "id": "pxxghKa3b0w4",
        "outputId": "dd53fcb9-703e-427b-aeab-908a95b8cf58"
      },
      "outputs": [
        {
          "name": "stdout",
          "output_type": "stream",
          "text": [
            "[6325.0, 7215.0, 7078.0, 9803.0, 0, 1258.0, 19332.0, 1685.0, 5516.0, 975.0, 136023.0]\n"
          ]
        },
        {
          "data": {
            "image/png": "[encoded data removed]",
            "text/plain": [
              "<Figure size 864x288 with 1 Axes>"
            ]
          },
          "metadata": {},
          "output_type": "display_data"
        }
      ],
      "source": [
        "num_yorokobi_gt50 = 0\n",
        "num_ikari_gt50 = 0\n",
        "num_aware_gt50 = 0\n",
        "num_kowagari_gt50 = 0\n",
        "num_haji_gt50 = 0\n",
        "num_suki_gt50 = 0\n",
        "num_iya_gt50 = 0\n",
        "num_takaburi_gt50 = 0\n",
        "num_yasuragi_gt50 = 0\n",
        "num_odoroki_gt50 = 0\n",
        "num_NA_gt50 = 0\n",
        "\n",
        "for s in range(len(emo_rt)):\n",
        "  if 'yorokobi' in emo_rt[\"emotion\"][s]:\n",
        "    num_yorokobi_gt50 = num_yorokobi_gt50 + emo_rt[\"degree.layout\"][s]\n",
        "  elif 'ikari' in emo_rt[\"emotion\"][s]:\n",
        "    num_ikari_gt50 = num_ikari_gt50 + emo_rt[\"degree.layout\"][s]\n",
        "  elif 'aware' in emo_rt[\"emotion\"][s]:\n",
        "    num_aware_gt50 =  num_aware_gt50 + emo_rt[\"degree.layout\"][s]\n",
        "  elif 'kowa' in emo_rt[\"emotion\"][s]:\n",
        "    num_kowagari_gt50 = num_kowagari_gt50 + emo_rt[\"degree.layout\"][s]\n",
        "  elif 'haji' in emo_rt[\"emotion\"][s]:\n",
        "    num_haji_gt50 = num_haji_gt50 + emo_rt[\"degree.layout\"][s]\n",
        "  elif 'suki' in emo_rt[\"emotion\"][s]:\n",
        "    num_suki_gt50 = num_suki_gt50 + emo_rt[\"degree.layout\"][s]\n",
        "  elif 'iya' in emo_rt[\"emotion\"][s]:\n",
        "    num_iya_gt50 = num_iya_gt50 + emo_rt[\"degree.layout\"][s]\n",
        "  elif 'takaburi' in emo_rt[\"emotion\"][s]:\n",
        "    num_takaburi_gt50 = num_takaburi_gt50 + emo_rt[\"degree.layout\"][s]\n",
        "  elif 'yasu' in emo_rt[\"emotion\"][s]:\n",
        "    num_yasuragi_gt50 = num_yasuragi_gt50 + emo_rt[\"degree.layout\"][s]\n",
        "  elif 'odoroki' in emo_rt[\"emotion\"][s]:\n",
        "    num_odoroki_gt50 = num_odoroki_gt50 + emo_rt[\"degree.layout\"][s]\n",
        "  elif 'NA' in emo_rt[\"emotion\"][s]:\n",
        "    num_NA_gt50 = num_NA_gt50 + emo_rt[\"degree.layout\"][s]\n",
        "\n",
        "y_pos = np.arange(len(objects_emotion))\n",
        "performance_gt50_num = [num_yorokobi_gt50, num_ikari_gt50, num_aware_gt50, num_kowagari_gt50, num_haji_gt50, num_suki_gt50, num_iya_gt50, num_takaburi_gt50, num_yasuragi_gt50, num_odoroki_gt50, num_NA_gt50]\n",
        "plt.figure(figsize=(12,4))\n",
        "plt.bar(y_pos, performance_gt50_num, align='center', alpha=0.5, width=0.6)\n",
        "plt.xticks(y_pos, objects_emotion)\n",
        "plt.ylabel('Number of Retweets')\n",
        "plt.title('ReTweet Number and Emotion *greater than 30')\n",
        "print(performance_gt50_num)"
      ]
    },
    {
      "cell_type": "code",
      "execution_count": null,
      "metadata": {
        "colab": {
          "base_uri": "https://localhost:8080/",
          "height": 281
        },
        "id": "o-eoRJ1hwXfv",
        "outputId": "4ff46355-576c-4c04-9cfa-8bda98f42b34"
      },
      "outputs": [
        {
          "data": {
            "image/png": "[encoded data removed]",
            "text/plain": [
              "<Figure size 576x288 with 1 Axes>"
            ]
          },
          "metadata": {},
          "output_type": "display_data"
        }
      ],
      "source": [
        "num_n_gt50 = 0\n",
        "num_mn_gt50 = 0\n",
        "num_nu_gt50 = 0\n",
        "num_mp_gt50 = 0\n",
        "num_p_gt50 = 0\n",
        "num_na_gt50 = 0\n",
        "\n",
        "for s in range(len(emo_rt)):\n",
        "  if 'NEGATIVE' == emo_rt[\"orientation\"][s]:\n",
        "    num_n_gt50 = num_n_gt50 + emo_rt[\"degree.layout\"][s]\n",
        "  elif 'mostly_NEGATIVE' == emo_rt[\"orientation\"][s]:\n",
        "    num_mn_gt50 = num_mn_gt50 + emo_rt[\"degree.layout\"][s]\n",
        "  elif 'NEUTRAL' in emo_rt[\"orientation\"][s]:\n",
        "    num_nu_gt50 =  num_nu_gt50 + emo_rt[\"degree.layout\"][s]\n",
        "  elif 'mostly_POSITIVE' == emo_rt[\"orientation\"][s]:\n",
        "    num_mp_gt50 = num_mp_gt50 + emo_rt[\"degree.layout\"][s]\n",
        "  elif 'POSITIVE' == emo_rt[\"orientation\"][s]:\n",
        "    num_p_gt50 = num_p_gt50 + emo_rt[\"degree.layout\"][s]\n",
        "  elif 'NA' == emo_rt[\"orientation\"][s]:\n",
        "    num_na_gt50 = num_na_gt50 + emo_rt[\"degree.layout\"][s]\n",
        "\n",
        "y_pos = np.arange(len(objects_orientation))\n",
        "performance_ori_gt50 = [num_n_gt50, num_mn_gt50, num_nu_gt50, num_mp_gt50, num_p_gt50, num_na_gt50]\n",
        "plt.figure(figsize=(8,4))\n",
        "plt.bar(y_pos, performance_ori_gt50, align='center', alpha=0.5, width=0.6)\n",
        "plt.xticks(y_pos, objects_orientation)\n",
        "plt.ylabel('Number of tweets')\n",
        "plt.title('Tweet Emotion Orientation greater than 30')\n",
        "\n",
        "plt.show()"
      ]
    },
    {
      "cell_type": "code",
      "execution_count": null,
      "metadata": {
        "colab": {
          "base_uri": "https://localhost:8080/",
          "height": 809
        },
        "id": "vWrnh59QAzSo",
        "outputId": "4c4ce7c3-0318-4082-c91b-d804a2dda393"
      },
      "outputs": [
        {
          "data": {
            "image/png": "[encoded data removed]",
            "text/plain": [
              "<Figure size 576x288 with 1 Axes>"
            ]
          },
          "metadata": {},
          "output_type": "display_data"
        },
        {
          "data": {
            "image/png": "[encoded data removed]",
            "text/plain": [
              "<Figure size 576x288 with 1 Axes>"
            ]
          },
          "metadata": {},
          "output_type": "display_data"
        },
        {
          "data": {
            "image/png": "[encoded data removed]",
            "text/plain": [
              "<Figure size 576x288 with 1 Axes>"
            ]
          },
          "metadata": {},
          "output_type": "display_data"
        }
      ],
      "source": [
        "orientation_negative_gt50_cl0 = ('NEGATIVE' == emo_rt[\"orientation\"]) & (emo_rt[\"cluster\"] == 0)\n",
        "orientation_positive_gt50_cl0 = (('POSITIVE' == emo_rt[\"orientation\"]) & (emo_rt[\"cluster\"] == 0))\n",
        "orientation_neutral_gt50_cl0 = (('NEUTRAL' == emo_rt[\"orientation\"]) & (emo_rt[\"cluster\"] == 0))\n",
        "orientation_mone_gt50_cl0 = (('mostly_NEGATIVE' == emo_rt[\"orientation\"]) & (emo_rt[\"cluster\"] == 0))\n",
        "orientation_mopo_gt50_cl0 = (('mostly_POSITIVE' == emo_rt[\"orientation\"]) & (emo_rt[\"cluster\"] == 0))\n",
        "orientation_na_gt50_cl0 = (('NA' == emo_rt[\"orientation\"]) & (emo_rt[\"cluster\"] == 0))\n",
        "orientation_negative_gt50_cl1 = ('NEGATIVE' == emo_rt[\"orientation\"]) & (emo_rt[\"cluster\"] == 1)\n",
        "orientation_positive_gt50_cl1 = (('POSITIVE' == emo_rt[\"orientation\"]) & (emo_rt[\"cluster\"] == 1))\n",
        "orientation_neutral_gt50_cl1 = (('NEUTRAL' == emo_rt[\"orientation\"]) & (emo_rt[\"cluster\"] == 1))\n",
        "orientation_mone_gt50_cl1 = (('mostly_NEGATIVE' == emo_rt[\"orientation\"]) & (emo_rt[\"cluster\"] == 1))\n",
        "orientation_mopo_gt50_cl1 = (('mostly_POSITIVE' == emo_rt[\"orientation\"]) & (emo_rt[\"cluster\"] == 1))\n",
        "orientation_na_gt50_cl1 = (('NA' == emo_rt[\"orientation\"]) & (emo_rt[\"cluster\"] == 1))\n",
        "orientation_negative_gt50_cl2 = ('NEGATIVE' == emo_rt[\"orientation\"]) & (emo_rt[\"cluster\"] == 18)\n",
        "orientation_positive_gt50_cl2 = (('POSITIVE' == emo_rt[\"orientation\"]) & (emo_rt[\"cluster\"] == 18))\n",
        "orientation_neutral_gt50_cl2 = (('NEUTRAL' == emo_rt[\"orientation\"]) & (emo_rt[\"cluster\"] == 18))\n",
        "orientation_mone_gt50_cl2 = (('mostly_NEGATIVE' == emo_rt[\"orientation\"]) & (emo_rt[\"cluster\"] == 18))\n",
        "orientation_mopo_gt50_cl2 = (('mostly_POSITIVE' == emo_rt[\"orientation\"]) & (emo_rt[\"cluster\"] == 18))\n",
        "orientation_na_gt50_cl2 = (('NA' == emo_rt[\"orientation\"]) & (emo_rt[\"cluster\"] == 18))\n",
        "\n",
        "objects_orientation = ('Negative', 'Mostly Negative', 'Neutral' ,'Mostly Positive', 'Positive', 'NA')\n",
        "\n",
        "y_pos = np.arange(len(objects_orientation))\n",
        "#num_ori_gt50_cl0 = [num_n_gt50_cl0, num_mn_gt50_cl0, num_nu_gt50_cl0, num_mp_gt50_cl0, num_p_gt50_cl0, num_na_gt50_cl0]\n",
        "performance_ori_gt50_cl0 = [orientation_negative_gt50_cl0.sum(), orientation_mone_gt50_cl0.sum(), orientation_neutral_gt50_cl0.sum(), orientation_mopo_gt50_cl0.sum(), orientation_positive_gt50_cl0.sum(), orientation_na_gt50_cl0.sum()]\n",
        "performance_ori_gt50_cl1 = [orientation_negative_gt50_cl1.sum(), orientation_mone_gt50_cl1.sum(), orientation_neutral_gt50_cl1.sum(), orientation_mopo_gt50_cl1.sum(), orientation_positive_gt50_cl1.sum(), orientation_na_gt50_cl1.sum()]\n",
        "performance_ori_gt50_cl2 = [orientation_negative_gt50_cl2.sum(), orientation_mone_gt50_cl2.sum(), orientation_neutral_gt50_cl2.sum(), orientation_mopo_gt50_cl2.sum(), orientation_positive_gt50_cl2.sum(), orientation_na_gt50_cl2.sum()]\n",
        "\n",
        "plt.figure(figsize=(8,4))\n",
        "plt.bar(y_pos, performance_ori_gt50_cl0, align='center', alpha=0.5, width=0.6)\n",
        "plt.xticks(y_pos, objects_orientation)\n",
        "plt.ylabel('Number of tweets')\n",
        "plt.title('Tweet Emotion Orientation greater than 30 [cluster 0]')\n",
        "\n",
        "plt.figure(figsize=(8,4))\n",
        "plt.bar(y_pos, performance_ori_gt50_cl1, align='center', alpha=0.5, width=0.6)\n",
        "plt.xticks(y_pos, objects_orientation)\n",
        "plt.ylabel('Number of tweets')\n",
        "plt.title('Tweet Emotion Orientation greater than 30 [cluster 1]')\n",
        "\n",
        "plt.figure(figsize=(8,4))\n",
        "plt.bar(y_pos, performance_ori_gt50_cl2, align='center', alpha=0.5, width=0.6)\n",
        "plt.xticks(y_pos, objects_orientation)\n",
        "plt.ylabel('Number of tweets')\n",
        "plt.title('Tweet Emotion Orientation greater than 30 [cluster 2]')\n",
        "\n",
        "plt.show()"
      ]
    },
    {
      "cell_type": "code",
      "execution_count": null,
      "metadata": {
        "id": "sn-DBkncOmK7"
      },
      "outputs": [],
      "source": [
        "num_n_gt50_cl0 = 0\n",
        "num_mn_gt50_cl0 = 0\n",
        "num_nu_gt50_cl0 = 0\n",
        "num_mp_gt50_cl0 = 0\n",
        "num_p_gt50_cl0 = 0\n",
        "num_na_gt50_cl0 = 0\n",
        "\n",
        "objects_orientation = ('Negative', 'Mostly Negative', 'Neutral' ,'Mostly Positive', 'Positive', 'NA')\n",
        "for s in range(len(emo_rt)):\n",
        "  if ('NEGATIVE' == emo_rt[1][s]) and (emo_rt[3][s] == 0):\n",
        "    num_n_gt50_cl0 = num_n_gt50_cl0 + emo_rt[0][s]\n",
        "    orientation_negative_gt50_cl0.append(emo_rt[s])\n",
        "  elif ('mostly_NEGATIVE' == emo_rt[1][s]) and (emo_rt[3][s] == 0):\n",
        "    num_mn_gt50_cl0 = num_mn_gt50_cl0 + emo_rt[0][s]\n",
        "    orientation_mone_gt50_cl0.append(emo_rt[s])\n",
        "  elif ('NEUTRAL' == emo_rt[1][s]) and (emo_rt[3][s] == 0):\n",
        "    num_nu_gt50_cl0 =  num_nu_gt50_cl0 + emo_rt[0][s]\n",
        "    orientation_neutral_gt50_cl0.append(emo_rt[s])\n",
        "  elif ('mostly_POSITIVE' == emo_rt[1][s]) and (emo_rt[3][s] == 0):\n",
        "    num_mp_gt50_cl0 = num_mp_gt50_cl0 + emo_rt[0][s]\n",
        "    orientation_mopo_gt50_cl0.append(emo_rt[s])\n",
        "  elif ('POSITIVE' == emo_rt[1][s]) and (emo_rt[3][s] == 0):\n",
        "    num_p_gt50_cl0 = num_p_gt50_cl0 + emo_rt[0][s]\n",
        "    orientation_positive_gt50_cl0.append(emo_rt[s])\n",
        "  elif ('NA' == emo_rt[1][s]) and (emo_rt[3][s] == 0):\n",
        "    num_na_gt50_cl0 = num_na_gt50_cl0 + emo_rt[0][s]\n",
        "    orientation_na_gt50_cl0.append(emo_rt[s])"
      ]
    },
    {
      "cell_type": "markdown",
      "metadata": {
        "id": "lY3PK5YYPn8j"
      },
      "source": [
        "記事の準備"
      ]
    },
    {
      "cell_type": "code",
      "execution_count": null,
      "metadata": {
        "id": "VNfIP3XyPui8"
      },
      "outputs": [],
      "source": [
        "https = []\n",
        "for q in range(len(df1)):\n",
        "  if q in elim_http:\n",
        "    l = df1.loc[q,:]\n",
        "    https.append(l)"
      ]
    },
    {
      "cell_type": "code",
      "execution_count": null,
      "metadata": {
        "id": "5UJm9Y7jz1nO"
      },
      "outputs": [],
      "source": [
        "https = pd.DataFrame(https, columns = [\"id\", \"user_name\", \"time\", \"text\", \"place\", \"favo\", \"RT\", \"follower\"])\n",
        "https =https.reset_index(drop=True)"
      ]
    },
    {
      "cell_type": "code",
      "execution_count": null,
      "metadata": {
        "id": "ISveTxWx15UP"
      },
      "outputs": [],
      "source": [
        "http_list = []\n",
        "for r in range(len(https)):\n",
        "  myString = https[\"text\"][r]\n",
        "  myString_list = [item for item in myString.split(\" \")]\n",
        "  for item in myString_list:\n",
        "    try:\n",
        "      match = re.search(\"(?P<url>https?://[^\\s]+)\", myString)\n",
        "      if match is not None: \n",
        "        urls = match.group(\"url\")\n",
        "        http_list.append(urls)\n",
        "    except:\n",
        "      pass"
      ]
    },
    {
      "cell_type": "code",
      "execution_count": null,
      "metadata": {
        "id": "naoikvUO5YKo"
      },
      "outputs": [],
      "source": [
        "http_data = pd.DataFrame(http_list)\n",
        "http_data_dudel = http_data.drop_duplicates(keep = 'last')\n",
        "http_data_dudel = http_data_dudel.reset_index(drop=True)\n",
        "#http_list = set(http_list) #最初に回す場合\n",
        "##一度回してから\n",
        "droped_url = []\n",
        "http_get = []\n",
        "csv_files_http = glob.glob(\"/content/drive/My Drive/Tweet/headline/*.csv\")\n",
        "for headfile in csv_files_http:\n",
        "  http_get.append(pd.read_csv(headfile, lineterminator='\\n'))\n",
        "http_get = pd.concat(http_get, axis=0, sort=False)\n",
        "http_get = http_get.drop_duplicates()\n",
        "http_get=http_get.reset_index(drop=True)\n",
        "http_dudel_list = http_data_dudel[0].values.tolist()\n",
        "http_get = http_get[\"URL\"].values.tolist()"
      ]
    },
    {
      "cell_type": "code",
      "execution_count": null,
      "metadata": {
        "colab": {
          "base_uri": "https://localhost:8080/"
        },
        "id": "3PHPu3U339xg",
        "outputId": "cc726e83-a98e-46f5-9777-b6f1cc0914b2"
      },
      "outputs": [
        {
          "output_type": "stream",
          "name": "stdout",
          "text": [
            "4174\n"
          ]
        }
      ],
      "source": [
        "for i in range(len(http_dudel_list)):\n",
        "  if http_dudel_list[i] not in http_get:\n",
        "    droped_url.append(http_dudel_list[i])\n",
        "http_list = droped_url\n",
        "print(len(http_list))"
      ]
    },
    {
      "cell_type": "code",
      "execution_count": null,
      "metadata": {
        "id": "s3Mz8Wi6HyT1"
      },
      "outputs": [],
      "source": [
        "title_list = []\n",
        "with open('/content/drive/My Drive/Tweet/headline/210111_vactine_article_3.csv', 'w',newline='',encoding='utf-8') as f: #change number if runtime error happens\n",
        "  writer = csv.writer(f, lineterminator='\\n')\n",
        "  writer.writerow([\"URL\", \"Headline\"])\n",
        "  for url in http_list:\n",
        "      try:\n",
        "          r = requests.get(url, timeout=3)\n",
        "          soup = BeautifulSoup(r.content, \"html.parser\")\n",
        "          html_element = soup.find(\"h1\")\n",
        "          article_title = html_element.text.strip()\n",
        "          line = [url, article_title]\n",
        "          title_list.append(line)\n",
        "          writer.writerow(line)\n",
        "      except Exception as e:\n",
        "          pass  # ignore any pages where there is a problem"
      ]
    },
    {
      "cell_type": "code",
      "execution_count": null,
      "metadata": {
        "id": "zz4alyZ0IIYk"
      },
      "outputs": [],
      "source": [
        "#全URL取得後ここから実行\n",
        "http_get = []\n",
        "csv_http = glob.glob(\"/content/drive/My Drive/Tweet/headline/*.csv\")\n",
        "for headfile in csv_http:\n",
        "  http_get.append(pd.read_csv(headfile, lineterminator='\\n'))\n",
        "http_get = pd.concat(http_get, axis=0, sort=False)\n",
        "http_get = http_get.drop_duplicates()\n",
        "http_get=http_get.reset_index(drop=True)"
      ]
    },
    {
      "cell_type": "code",
      "source": [
        "drop_java_na = []\n",
        "for i in range(len(http_get)):\n",
        "  if \"JavaScript is not available.\" in str(http_get.iloc[i][\"Headline\"]):\n",
        "    drop_java_na.append(i)\n",
        "  elif '404' in str(http_get.iloc[i][\"Headline\"]):\n",
        "    drop_java_na.append(i)\n",
        "  elif 'お探しの情報は' in str(http_get.iloc[i][\"Headline\"]):\n",
        "    drop_java_na.append(i)\n",
        "  elif 'お探しのページが見つかりませんでした' in str(http_get.iloc[i][\"Headline\"]):\n",
        "    drop_java_na.append(i)\n",
        "  elif 'ページが見つかりませんでした' in str(http_get.iloc[i][\"Headline\"]):\n",
        "    drop_java_na.append(i)\n",
        "  elif 'Nothing to see here' in str(http_get.iloc[i][\"Headline\"]):\n",
        "    drop_java_na.append(i)\n",
        "  elif http_get.iloc[i][\"Headline\"] == Null:\n",
        "    drop_java_na.append(i)\n",
        "  elif '403' in str(http_get.iloc[i][\"Headline\"]):\n",
        "    drop_java_na.append(i)\n",
        "  elif 'Forbidden' in str(http_get.iloc[i][\"Headline\"]):\n",
        "    drop_java_na.append(i)\n",
        "  #yahoo news, ニコニコ動画, 質問箱などのサイト名がh1にあるケースも削除する\n",
        "  elif 'Yahoo!ニュース' in str(http_get.iloc[i][\"Headline\"]):\n",
        "    drop_java_na.append(i)\n",
        "  elif 'ニコニコ動画' in str(http_get.iloc[i][\"Headline\"]):\n",
        "    drop_java_na.append(i)\n",
        "  elif 'Peing' in str(http_get.iloc[i][\"Headline\"]):\n",
        "    drop_java_na.append(i)\n",
        "  elif 'Not Found' in str(http_get.iloc[i][\"Headline\"]):\n",
        "    drop_java_na.append(i)\n",
        "  elif 'FC2動画' in str(http_get.iloc[i][\"Headline\"]):\n",
        "    drop_java_na.append(i)\n",
        "  elif 'Bloomberg' in str(http_get.iloc[i][\"Headline\"]):\n",
        "    drop_java_na.append(i)\n",
        "  elif '国際ニュース：AFPBB News' in str(http_get.iloc[i][\"Headline\"]):\n",
        "    drop_java_na.append(i)\n",
        "  elif 'Service Unavailable' in str(http_get.iloc[i][\"Headline\"]):\n",
        "    drop_java_na.append(i)\n",
        "  elif '調布経済新聞' in str(http_get.iloc[i][\"Headline\"]):\n",
        "    drop_java_na.append(i)\n",
        "  elif '共同通信' in str(http_get.iloc[i][\"Headline\"]):\n",
        "    drop_java_na.append(i)\n",
        "  elif 'SBS 뉴스' in str(http_get.iloc[i][\"Headline\"]):\n",
        "    drop_java_na.append(i)\n",
        "  elif '福島民友' in str(http_get.iloc[i][\"Headline\"]):\n",
        "    drop_java_na.append(i)\n",
        "  elif 'ESPN' in str(http_get.iloc[i][\"Headline\"]):\n",
        "    drop_java_na.append(i)"
      ],
      "metadata": {
        "id": "Rsxeu9VVMCvN"
      },
      "execution_count": null,
      "outputs": []
    },
    {
      "cell_type": "code",
      "source": [
        "http_available = http_get.drop(drop_java_na)\n",
        "http_available = http_available.dropna()\n",
        "http_available = http_available.reset_index(drop=True)\n",
        "http_available.to_csv(\"/content/drive/My Drive/Tweet/headline/220117_available_test.csv\")"
      ],
      "metadata": {
        "id": "eO3RxzVVNdmC"
      },
      "execution_count": null,
      "outputs": []
    },
    {
      "cell_type": "markdown",
      "source": [
        "頻出単語の分析"
      ],
      "metadata": {
        "id": "nH77lz8tc4Pu"
      }
    },
    {
      "cell_type": "code",
      "source": [
        "def Remove_word(list):\n",
        "  rems = ['@', ',', '，', '。', '', ' ', 'http', 'https','//', '、', '×', '.',\n",
        "            '+', '＋', '/',', ', '(', ')', '（', '）', '://', 'RT', ':', ';','：', '；',\n",
        "            '」','「', '＠', '-', '／',  '%', '％', '!', '！', '#', '＃',\n",
        "            '$', '＄', '=', '＝', 'ー', '￥', '^', '{', '}', '~', '～', \n",
        "            '&', '＆', '・', '?', '??', '？', '？？',  '<', '＜', '>', '＞', '_', '＿', \n",
        "            'co', 'jp', '(@', '○', '『', '』', '”', '’', '\"', '…', '‼', '(+'\n",
        "            ')」', '〇', '【', '】', '[', ']', '⁉', 'gt',\n",
        "            'から', 'より', 'こそ', 'でも', 'しか','さえ', 'けれど', 'たり', 'つつ', 'とも',\n",
        "            'たら', 'ある', 'なら', 'のに', 'です', 'ます', 'する', 'ほど', 'ない', 'くる',\n",
        "            'なり', 'そう', 'まし', 'その', 'この', 'あの', 'せる', 'どう', 'ため', 'どこ',\n",
        "            'いる', 'これ', 'それ', 'あれ', 'いい', 'など', 'あっ', 'もう', 'さん', 'じゃ',\n",
        "            'から', 'あり', 'ので', 'とも', 'ませ', 'でし', 'とき', 'こと', 'なる', 'って',\n",
        "            'ただ', 'まで', 'もの', 'つか', 'なっ', 'でき', 'もっ', 'けど', 'ほぼ', 'なー',\n",
        "            'そこ', 'ここ', 'だろ', 'なん', 'だっ', 'なあ', 'っけ', 'せる', 'やっ', 'また',\n",
        "            'どれ', 'なれ', 'かも', 'いく', 'いけ', 'いう', 'たい', 'あと', 'かも', 'しれ',  \n",
        "            'こう', 'なく', 'よく', 'だけ', 'れる', 'よう', 'かけ', 'どの', 'てる', 'とか',\n",
        "            'という', '思う', '思っ', 'として', 'ところ', 'しまう', 'なんか', 'そんな', \n",
        "            'でしょ', 'しまい', 'わかり', 'まま'\n",
        "            '\\u200d', '\\u3000#'\n",
        "            ]\n",
        "  for number in range(10000):\n",
        "    rems.append(str(number))\n",
        "\n",
        "# 一文字のひらがなとカタカナ，全角数字，アルファベット大文字・小文字\n",
        "  hirakana    = [chr(i) for i in range(12353, 12436)]\n",
        "  katakana    = [chr(i) for i in range(12449, 12533)]\n",
        "  zenkaku_num = [chr(i) for i in range(65296, 65296+10)]\n",
        "  alph_L      = [chr(i) for i in range(97, 97+26)]\n",
        "  alph_S      = [chr(i) for i in range(65, 65+26)]\n",
        "\n",
        "  for a in range(len(hirakana)):\n",
        "    rems.append(hirakana[a])\n",
        "  for b in range(len(katakana)):\n",
        "    rems.append(katakana[b])\n",
        "  for c in range(len(zenkaku_num)):\n",
        "    rems.append(zenkaku_num[c])\n",
        "  for d in range(len(alph_L)):\n",
        "    rems.append(alph_L[d])\n",
        "  for e in range(len(alph_S)):\n",
        "    rems.append(alph_S[e])\n",
        "\n",
        "  words = [x for x in list if (x not in rems)]\n",
        "  return words"
      ],
      "metadata": {
        "id": "SEiooUWTcjWx"
      },
      "execution_count": null,
      "outputs": []
    },
    {
      "cell_type": "code",
      "source": [
        "def extract_word(text):\n",
        "    tokens = t.tokenize(text)\n",
        "    return [token.base_form for token in tokens \n",
        "        if token.part_of_speech.split(',')[0] in['名詞', '動詞','形容詞']]\n",
        "\n",
        "all_users_words=[]\n",
        "\n",
        "for i in range(len(http_available)):\n",
        "  user_text=http_available.iloc[i]['Headline']\n",
        "  #text=list(tagger.parse(user_text).split())\n",
        "  words=extract_word(user_text)\n",
        "  all_users_words.append(words)\n",
        "  \n",
        "all_users_words1=[e for inner_list in all_users_words for e in inner_list]\n",
        "import pickle\n",
        "f = open('/content/drive/My Drive/Tweet/w2b/220117_vaccine.txt', 'wb')\n",
        "list_row = all_users_words1\n",
        "pickle.dump(list_row, f)"
      ],
      "metadata": {
        "id": "lvl3ATt4fpgV"
      },
      "execution_count": null,
      "outputs": []
    },
    {
      "cell_type": "code",
      "source": [
        "word_chain = ' '.join(list_row)\n",
        "stop_words = [u'くる', u'する', u'なる', u'ない', u'こと', u'れる', u'せる', u'of', u'the', u'いる', u'さん', u'in', u'to', u'できる']\n",
        "wordcloud = WordCloud(background_color=\"white\", font_path = '/usr/share/fonts/truetype/fonts-japanese-mincho.ttf', collocations = False, stopwords = set(stop_words), width=600,height=400,min_font_size=15)\n",
        "wordcloud.generate(word_chain)\n",
        "wordcloud.to_file(\"/content/drive/My Drive/Tweet/figures/220117_article_wordcloud.png\")"
      ],
      "metadata": {
        "colab": {
          "base_uri": "https://localhost:8080/"
        },
        "id": "j0YyqPd3gh4E",
        "outputId": "0739c19c-9641-4bdf-9975-e604a3ec5663"
      },
      "execution_count": null,
      "outputs": [
        {
          "output_type": "execute_result",
          "data": {
            "text/plain": [
              "<wordcloud.wordcloud.WordCloud at 0x7ffad4c55d10>"
            ]
          },
          "metadata": {},
          "execution_count": 80
        }
      ]
    },
    {
      "cell_type": "markdown",
      "source": [
        "記事の感情分析"
      ],
      "metadata": {
        "id": "yx1pOSGEqsLn"
      }
    },
    {
      "cell_type": "code",
      "source": [
        "emotion_article_list = []\n",
        "orientation_article_list = []\n",
        "\n",
        "for k in range(len(http_available)):\n",
        "  headline = http_available.iloc[k]['Headline']\n",
        "  result_headline = emotion_analyzer.analyze(headline)\n",
        "  try:\n",
        "    orientation_headline = result_headline['orientation']\n",
        "    kanjo_headline = result_headline['representative']\n",
        "    emotion_article_list.append(kanjo_headline)\n",
        "    orientation_article_list.append(orientation_headline)\n",
        "  except KeyError:\n",
        "    kanjo_headline = 'NA'\n",
        "    orientation_headline = 'NA'\n",
        "    emotion_article_list.append(kanjo_headline)\n",
        "    orientation_article_list.append(orientation_headline)"
      ],
      "metadata": {
        "colab": {
          "base_uri": "https://localhost:8080/"
        },
        "id": "JfhMOtk6qy02",
        "outputId": "562c9e01-280e-4c05-e25d-98c509f1b494"
      },
      "execution_count": null,
      "outputs": [
        {
          "output_type": "execute_result",
          "data": {
            "text/plain": [
              "6550"
            ]
          },
          "metadata": {},
          "execution_count": 84
        }
      ]
    },
    {
      "cell_type": "code",
      "source": [
        "headline_emotion = http_available\n",
        "headline_emotion[\"orientation\"] = orientation_article_list\n",
        "headline_emotion[\"emotion\"] = emotion_article_list"
      ],
      "metadata": {
        "id": "xy00oVUIs2zQ"
      },
      "execution_count": null,
      "outputs": []
    },
    {
      "cell_type": "code",
      "source": [
        "orientation_article_negative = (headline_emotion['orientation'] == 'NEGATIVE')\n",
        "orientation_article_positive = (headline_emotion['orientation'] == 'POSITIVE')\n",
        "orientation_article_neutral = (headline_emotion['orientation'] == 'NEUTRAL')\n",
        "orientation_article_mone = (headline_emotion['orientation'] == 'mostly_NEGATIVE')\n",
        "orientation_article_mopo = (headline_emotion['orientation'] == 'mostly_POSITIVE')\n",
        "orientation_article_na = (headline_emotion['orientation'] == 'NA')\n",
        "#RTやhttpを除くツイートの感情(positive vs. negative)の図示\n",
        "objects_orientation = ('Negative', 'Mostly Negative', 'Neutral' ,'Mostly Positive', 'Positive', 'NA')\n",
        "import matplotlib.pyplot as plt\n",
        "y_pos = np.arange(len(objects_orientation))\n",
        "performance = [orientation_article_negative.sum(), orientation_article_mone.sum(), orientation_article_neutral.sum(), orientation_article_mopo.sum(), orientation_article_positive.sum(), orientation_article_na.sum()]\n",
        "plt.figure(figsize=(8,4))\n",
        "plt.bar(y_pos, performance, align='center', alpha=0.5, width=0.6)\n",
        "plt.xticks(y_pos, objects_orientation)\n",
        "plt.ylabel('Number of article')\n",
        "plt.title('Article Emotion Orientation')\n",
        "\n",
        "plt.show()"
      ],
      "metadata": {
        "colab": {
          "base_uri": "https://localhost:8080/",
          "height": 281
        },
        "id": "3JRp0owQurSa",
        "outputId": "d0db64e2-88f9-4ec4-b420-ba0322d237eb"
      },
      "execution_count": null,
      "outputs": [
        {
          "output_type": "display_data",
          "data": {
            "image/png": "[encoded data removed]",
            "text/plain": [
              "<Figure size 576x288 with 1 Axes>"
            ]
          },
          "metadata": {
            "needs_background": "light"
          }
        }
      ]
    },
    {
      "cell_type": "code",
      "source": [
        "emotion_article_yorokobi = [s for s in headline_emotion['emotion'] if 'yorokobi' in s]\n",
        "emotion_article_ikari = [s for s in headline_emotion['emotion'] if 'ikari' in s]\n",
        "emotion_article_aware = [s for s in headline_emotion['emotion'] if 'aware' in s]\n",
        "emotion_article_kowagari = [s for s in headline_emotion['emotion'] if 'kowa' in s]\n",
        "emotion_article_haji = [s for s in headline_emotion['emotion'] if 'haji' in s]\n",
        "emotion_article_suki = [s for s in headline_emotion['emotion'] if 'suki' in s]\n",
        "emotion_article_iya = [s for s in headline_emotion['emotion'] if 'iya' in s]\n",
        "emotion_article_takaburi = [s for s in headline_emotion['emotion'] if 'takaburi' in s]\n",
        "emotion_article_yasuragi = [s for s in headline_emotion['emotion'] if 'yasu' in s]\n",
        "emotion_article_odoroki = [s for s in headline_emotion['emotion'] if 'odoroki' in s]\n",
        "emotion_article_na = [s for s in headline_emotion['emotion'] if 'NA' in s]\n",
        "objects_emotion = ('joy', 'anger', 'sorrow', 'fear', 'shame', 'liking', 'dislike', 'excitement', 'relief', 'surprise', 'NA')\n",
        "y_pos = np.arange(len(objects_emotion))\n",
        "performance = [len(emotion_article_yorokobi), len(emotion_article_ikari), len(emotion_article_aware), len(emotion_article_kowagari), len(emotion_article_haji), len(emotion_article_suki), len(emotion_article_iya), len(emotion_article_takaburi), len(emotion_article_yasuragi), len(emotion_article_odoroki), len(emotion_article_na)]\n",
        "plt.figure(figsize=(12,4))\n",
        "plt.bar(y_pos, performance, align='center', alpha=0.5, width=0.6)\n",
        "plt.xticks(y_pos, objects_emotion)\n",
        "plt.ylabel('Number of article')\n",
        "plt.title('Article Emotion')\n",
        "\n",
        "plt.show()"
      ],
      "metadata": {
        "colab": {
          "base_uri": "https://localhost:8080/",
          "height": 281
        },
        "id": "2z6mc6mVvwSS",
        "outputId": "7ce0bfcf-de05-400e-8882-88426bbdad80"
      },
      "execution_count": null,
      "outputs": [
        {
          "output_type": "display_data",
          "data": {
            "image/png": "[encoded data removed]",
            "text/plain": [
              "<Figure size 864x288 with 1 Axes>"
            ]
          },
          "metadata": {
            "needs_background": "light"
          }
        }
      ]
    }
  ],
  "metadata": {
    "colab": {
      "collapsed_sections": [],
      "name": "emotion.ipynb",
      "provenance": [],
      "authorship_tag": "ABX9TyN2Ol3XAPEJ6t392QEZX2a/",
      "include_colab_link": true
    },
    "kernelspec": {
      "display_name": "Python 3",
      "name": "python3"
    },
    "language_info": {
      "name": "python"
    }
  },
  "nbformat": 4,
  "nbformat_minor": 0
}