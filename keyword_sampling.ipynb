{
  "nbformat": 4,
  "nbformat_minor": 0,
  "metadata": {
    "colab": {
      "name": "keyword_sampling.ipynb",
      "provenance": [],
      "collapsed_sections": [],
      "include_colab_link": true
    },
    "kernelspec": {
      "display_name": "Python 3 (ipykernel)",
      "language": "python",
      "name": "python3"
    },
    "language_info": {
      "codemirror_mode": {
        "name": "ipython",
        "version": 3
      },
      "file_extension": ".py",
      "mimetype": "text/x-python",
      "name": "python",
      "nbconvert_exporter": "python",
      "pygments_lexer": "ipython3",
      "version": "3.8.11"
    }
  },
  "cells": [
    {
      "cell_type": "markdown",
      "metadata": {
        "id": "view-in-github",
        "colab_type": "text"
      },
      "source": [
        "<a href=\"https://colab.research.google.com/github/SomaOkuda/Tweet-Analysis/blob/main/keyword_sampling.ipynb\" target=\"_parent\"><img src=\"https://colab.research.google.com/assets/colab-badge.svg\" alt=\"Open In Colab\"/></a>"
      ]
    },
    {
      "cell_type": "code",
      "metadata": {
        "id": "ioVnPSu1mSrY"
      },
      "source": [
        "!pip install tweepy"
      ],
      "execution_count": null,
      "outputs": []
    },
    {
      "cell_type": "code",
      "metadata": {
        "id": "mD8bH53NhPkG"
      },
      "source": [
        "from google.colab import drive\n",
        "drive.mount('/content/drive')"
      ],
      "execution_count": null,
      "outputs": []
    },
    {
      "cell_type": "code",
      "metadata": {
        "id": "wV6ZSI33wBbE"
      },
      "source": [
        "import os\n",
        "import csv\n",
        "import time\n",
        "import math\n",
        "import tweepy\n",
        "from requests_oauthlib import OAuth1Session\n",
        "from pytz import timezone\n",
        "from dateutil import parser\n",
        "from dateutil.relativedelta import relativedelta\n",
        "from datetime import datetime, date, timedelta\n",
        "import pytz, re, sys,traceback\n",
        "\n",
        "today = date.today()\n",
        "timenow = datetime.now()\n",
        "tweet_data = []\n",
        "\n",
        "consumer_key = 'XXXX'\n",
        "consumer_secret = 'XXXX'\n",
        "access_key = 'XXXX'\n",
        "access_secret = 'XXXX'\n",
        "\n",
        "auth = tweepy.OAuthHandler(consumer_key, consumer_secret)\n",
        "auth.set_access_token(access_key, access_secret)\n",
        "api = tweepy.API(auth)\n",
        "\n",
        "\n",
        "#ツイート取得\n",
        "tweet_data = []\n",
        "keyword = 'ワクチン'\n",
        "\n",
        "with open('/content/drive/My Drive/Tweet/tweet/auto_test/' + str(today) + keyword + '.csv', 'w',newline='',encoding='utf-8') as f:\n",
        "  writer = csv.writer(f, lineterminator='\\n')\n",
        "  writer.writerow([\"id\", \"user_name\", \"time\", \"text\", \"place\", \"favo\", \"RT\", \"follower\"])\n",
        "  while True:\n",
        "    try:\n",
        "      for tweet in tweepy.Cursor(api.search, q=keyword, tweet_mode='extended', language='ja').items():\n",
        "        try:\n",
        "          tweet_data.append([tweet.id, tweet.user.screen_name, tweet.created_at, tweet.full_text.replace('\\n',''), tweet.user.location, tweet.favorite_count, tweet.retweet_count, tweet.user.followers_count])\n",
        "        except Exception as e:\n",
        "          print(e)\n",
        "          time.sleep(60)\n",
        "      pass\n",
        "    except:\n",
        "      writer.writerows(tweet_data)\n",
        "      tweet_data.clear()\n",
        "      time.sleep(1800)"
      ],
      "execution_count": null,
      "outputs": []
    }
  ]
}